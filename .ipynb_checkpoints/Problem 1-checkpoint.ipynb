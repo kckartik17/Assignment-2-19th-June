{
 "cells": [
  {
   "cell_type": "code",
   "execution_count": 1,
   "metadata": {},
   "outputs": [],
   "source": [
    "import numpy as np\n",
    "import pandas as pd\n",
    "import matplotlib.pyplot as plt\n",
    "import seaborn as sns\n",
    "import sklearn\n",
    "from sklearn.metrics import accuracy_score, classification_report\n",
    "%matplotlib inline\n",
    "sns.set_style('whitegrid')"
   ]
  },
  {
   "cell_type": "code",
   "execution_count": 2,
   "metadata": {},
   "outputs": [],
   "source": [
    "pd1 = pd.read_csv(\"problem_1/train.csv\")"
   ]
  },
  {
   "cell_type": "code",
   "execution_count": 3,
   "metadata": {},
   "outputs": [
    {
     "data": {
      "text/plain": [
       "Index(['Age', 'Gender', 'Total_Bilirubin', 'Direct_Bilirubin',\n",
       "       'Alkaline_Phosphotase', 'Alamine_Aminotransferase',\n",
       "       'Aspartate_Aminotransferase', 'Total_Protiens', 'Albumin',\n",
       "       'Albumin_and_Globulin_Ratio', 'Dataset'],\n",
       "      dtype='object')"
      ]
     },
     "execution_count": 3,
     "metadata": {},
     "output_type": "execute_result"
    }
   ],
   "source": [
    "pd1.columns"
   ]
  },
  {
   "cell_type": "code",
   "execution_count": 4,
   "metadata": {},
   "outputs": [
    {
     "data": {
      "text/plain": [
       "(466, 11)"
      ]
     },
     "execution_count": 4,
     "metadata": {},
     "output_type": "execute_result"
    }
   ],
   "source": [
    "pd1.shape"
   ]
  },
  {
   "cell_type": "code",
   "execution_count": 5,
   "metadata": {},
   "outputs": [
    {
     "data": {
      "text/html": [
       "<div>\n",
       "<style scoped>\n",
       "    .dataframe tbody tr th:only-of-type {\n",
       "        vertical-align: middle;\n",
       "    }\n",
       "\n",
       "    .dataframe tbody tr th {\n",
       "        vertical-align: top;\n",
       "    }\n",
       "\n",
       "    .dataframe thead th {\n",
       "        text-align: right;\n",
       "    }\n",
       "</style>\n",
       "<table border=\"1\" class=\"dataframe\">\n",
       "  <thead>\n",
       "    <tr style=\"text-align: right;\">\n",
       "      <th></th>\n",
       "      <th>Age</th>\n",
       "      <th>Gender</th>\n",
       "      <th>Total_Bilirubin</th>\n",
       "      <th>Direct_Bilirubin</th>\n",
       "      <th>Alkaline_Phosphotase</th>\n",
       "      <th>Alamine_Aminotransferase</th>\n",
       "      <th>Aspartate_Aminotransferase</th>\n",
       "      <th>Total_Protiens</th>\n",
       "      <th>Albumin</th>\n",
       "      <th>Albumin_and_Globulin_Ratio</th>\n",
       "      <th>Dataset</th>\n",
       "    </tr>\n",
       "  </thead>\n",
       "  <tbody>\n",
       "    <tr>\n",
       "      <th>0</th>\n",
       "      <td>60</td>\n",
       "      <td>Male</td>\n",
       "      <td>6.3</td>\n",
       "      <td>3.2</td>\n",
       "      <td>314</td>\n",
       "      <td>118</td>\n",
       "      <td>114</td>\n",
       "      <td>6.6</td>\n",
       "      <td>3.7</td>\n",
       "      <td>1.27</td>\n",
       "      <td>1</td>\n",
       "    </tr>\n",
       "    <tr>\n",
       "      <th>1</th>\n",
       "      <td>31</td>\n",
       "      <td>Female</td>\n",
       "      <td>0.8</td>\n",
       "      <td>0.2</td>\n",
       "      <td>158</td>\n",
       "      <td>21</td>\n",
       "      <td>16</td>\n",
       "      <td>6.0</td>\n",
       "      <td>3.0</td>\n",
       "      <td>1.00</td>\n",
       "      <td>1</td>\n",
       "    </tr>\n",
       "    <tr>\n",
       "      <th>2</th>\n",
       "      <td>60</td>\n",
       "      <td>Male</td>\n",
       "      <td>19.6</td>\n",
       "      <td>9.5</td>\n",
       "      <td>466</td>\n",
       "      <td>46</td>\n",
       "      <td>52</td>\n",
       "      <td>6.1</td>\n",
       "      <td>2.0</td>\n",
       "      <td>0.40</td>\n",
       "      <td>1</td>\n",
       "    </tr>\n",
       "    <tr>\n",
       "      <th>3</th>\n",
       "      <td>34</td>\n",
       "      <td>Male</td>\n",
       "      <td>8.7</td>\n",
       "      <td>4.0</td>\n",
       "      <td>298</td>\n",
       "      <td>58</td>\n",
       "      <td>138</td>\n",
       "      <td>5.8</td>\n",
       "      <td>2.4</td>\n",
       "      <td>0.70</td>\n",
       "      <td>1</td>\n",
       "    </tr>\n",
       "    <tr>\n",
       "      <th>4</th>\n",
       "      <td>26</td>\n",
       "      <td>Female</td>\n",
       "      <td>0.9</td>\n",
       "      <td>0.2</td>\n",
       "      <td>154</td>\n",
       "      <td>16</td>\n",
       "      <td>12</td>\n",
       "      <td>7.0</td>\n",
       "      <td>3.5</td>\n",
       "      <td>1.00</td>\n",
       "      <td>1</td>\n",
       "    </tr>\n",
       "  </tbody>\n",
       "</table>\n",
       "</div>"
      ],
      "text/plain": [
       "   Age  Gender  Total_Bilirubin  Direct_Bilirubin  Alkaline_Phosphotase  \\\n",
       "0   60    Male              6.3               3.2                   314   \n",
       "1   31  Female              0.8               0.2                   158   \n",
       "2   60    Male             19.6               9.5                   466   \n",
       "3   34    Male              8.7               4.0                   298   \n",
       "4   26  Female              0.9               0.2                   154   \n",
       "\n",
       "   Alamine_Aminotransferase  Aspartate_Aminotransferase  Total_Protiens  \\\n",
       "0                       118                         114             6.6   \n",
       "1                        21                          16             6.0   \n",
       "2                        46                          52             6.1   \n",
       "3                        58                         138             5.8   \n",
       "4                        16                          12             7.0   \n",
       "\n",
       "   Albumin  Albumin_and_Globulin_Ratio  Dataset  \n",
       "0      3.7                        1.27        1  \n",
       "1      3.0                        1.00        1  \n",
       "2      2.0                        0.40        1  \n",
       "3      2.4                        0.70        1  \n",
       "4      3.5                        1.00        1  "
      ]
     },
     "execution_count": 5,
     "metadata": {},
     "output_type": "execute_result"
    }
   ],
   "source": [
    "pd1.head(5)"
   ]
  },
  {
   "cell_type": "code",
   "execution_count": 6,
   "metadata": {},
   "outputs": [
    {
     "data": {
      "text/plain": [
       "Age                           0\n",
       "Gender                        0\n",
       "Total_Bilirubin               0\n",
       "Direct_Bilirubin              0\n",
       "Alkaline_Phosphotase          0\n",
       "Alamine_Aminotransferase      0\n",
       "Aspartate_Aminotransferase    0\n",
       "Total_Protiens                0\n",
       "Albumin                       0\n",
       "Albumin_and_Globulin_Ratio    3\n",
       "Dataset                       0\n",
       "dtype: int64"
      ]
     },
     "execution_count": 6,
     "metadata": {},
     "output_type": "execute_result"
    }
   ],
   "source": [
    "pd1.isnull().sum()"
   ]
  },
  {
   "cell_type": "code",
   "execution_count": 7,
   "metadata": {},
   "outputs": [
    {
     "data": {
      "text/html": [
       "<div>\n",
       "<style scoped>\n",
       "    .dataframe tbody tr th:only-of-type {\n",
       "        vertical-align: middle;\n",
       "    }\n",
       "\n",
       "    .dataframe tbody tr th {\n",
       "        vertical-align: top;\n",
       "    }\n",
       "\n",
       "    .dataframe thead th {\n",
       "        text-align: right;\n",
       "    }\n",
       "</style>\n",
       "<table border=\"1\" class=\"dataframe\">\n",
       "  <thead>\n",
       "    <tr style=\"text-align: right;\">\n",
       "      <th></th>\n",
       "      <th>Age</th>\n",
       "      <th>Gender</th>\n",
       "      <th>Total_Bilirubin</th>\n",
       "      <th>Direct_Bilirubin</th>\n",
       "      <th>Alkaline_Phosphotase</th>\n",
       "      <th>Alamine_Aminotransferase</th>\n",
       "      <th>Aspartate_Aminotransferase</th>\n",
       "      <th>Total_Protiens</th>\n",
       "      <th>Albumin</th>\n",
       "      <th>Albumin_and_Globulin_Ratio</th>\n",
       "      <th>Dataset</th>\n",
       "    </tr>\n",
       "  </thead>\n",
       "  <tbody>\n",
       "    <tr>\n",
       "      <th>31</th>\n",
       "      <td>45</td>\n",
       "      <td>Female</td>\n",
       "      <td>0.9</td>\n",
       "      <td>0.3</td>\n",
       "      <td>189</td>\n",
       "      <td>23</td>\n",
       "      <td>33</td>\n",
       "      <td>6.6</td>\n",
       "      <td>3.9</td>\n",
       "      <td>NaN</td>\n",
       "      <td>1</td>\n",
       "    </tr>\n",
       "    <tr>\n",
       "      <th>41</th>\n",
       "      <td>27</td>\n",
       "      <td>Male</td>\n",
       "      <td>1.3</td>\n",
       "      <td>0.6</td>\n",
       "      <td>106</td>\n",
       "      <td>25</td>\n",
       "      <td>54</td>\n",
       "      <td>8.5</td>\n",
       "      <td>4.8</td>\n",
       "      <td>NaN</td>\n",
       "      <td>2</td>\n",
       "    </tr>\n",
       "    <tr>\n",
       "      <th>188</th>\n",
       "      <td>51</td>\n",
       "      <td>Male</td>\n",
       "      <td>0.8</td>\n",
       "      <td>0.2</td>\n",
       "      <td>230</td>\n",
       "      <td>24</td>\n",
       "      <td>46</td>\n",
       "      <td>6.5</td>\n",
       "      <td>3.1</td>\n",
       "      <td>NaN</td>\n",
       "      <td>1</td>\n",
       "    </tr>\n",
       "  </tbody>\n",
       "</table>\n",
       "</div>"
      ],
      "text/plain": [
       "     Age  Gender  Total_Bilirubin  Direct_Bilirubin  Alkaline_Phosphotase  \\\n",
       "31    45  Female              0.9               0.3                   189   \n",
       "41    27    Male              1.3               0.6                   106   \n",
       "188   51    Male              0.8               0.2                   230   \n",
       "\n",
       "     Alamine_Aminotransferase  Aspartate_Aminotransferase  Total_Protiens  \\\n",
       "31                         23                          33             6.6   \n",
       "41                         25                          54             8.5   \n",
       "188                        24                          46             6.5   \n",
       "\n",
       "     Albumin  Albumin_and_Globulin_Ratio  Dataset  \n",
       "31       3.9                         NaN        1  \n",
       "41       4.8                         NaN        2  \n",
       "188      3.1                         NaN        1  "
      ]
     },
     "execution_count": 7,
     "metadata": {},
     "output_type": "execute_result"
    }
   ],
   "source": [
    "pd1[pd1['Albumin_and_Globulin_Ratio'].isnull()]"
   ]
  },
  {
   "cell_type": "code",
   "execution_count": 8,
   "metadata": {},
   "outputs": [],
   "source": [
    "pd1['Albumin_and_Globulin_Ratio'].fillna((pd1['Albumin_and_Globulin_Ratio'].mean()),inplace=True)"
   ]
  },
  {
   "cell_type": "code",
   "execution_count": 9,
   "metadata": {},
   "outputs": [
    {
     "data": {
      "text/plain": [
       "Age                           0\n",
       "Gender                        0\n",
       "Total_Bilirubin               0\n",
       "Direct_Bilirubin              0\n",
       "Alkaline_Phosphotase          0\n",
       "Alamine_Aminotransferase      0\n",
       "Aspartate_Aminotransferase    0\n",
       "Total_Protiens                0\n",
       "Albumin                       0\n",
       "Albumin_and_Globulin_Ratio    0\n",
       "Dataset                       0\n",
       "dtype: int64"
      ]
     },
     "execution_count": 9,
     "metadata": {},
     "output_type": "execute_result"
    }
   ],
   "source": [
    "pd1.isnull().sum()"
   ]
  },
  {
   "cell_type": "code",
   "execution_count": 10,
   "metadata": {},
   "outputs": [
    {
     "name": "stdout",
     "output_type": "stream",
     "text": [
      "<class 'pandas.core.frame.DataFrame'>\n",
      "RangeIndex: 466 entries, 0 to 465\n",
      "Data columns (total 11 columns):\n",
      "Age                           466 non-null int64\n",
      "Gender                        466 non-null object\n",
      "Total_Bilirubin               466 non-null float64\n",
      "Direct_Bilirubin              466 non-null float64\n",
      "Alkaline_Phosphotase          466 non-null int64\n",
      "Alamine_Aminotransferase      466 non-null int64\n",
      "Aspartate_Aminotransferase    466 non-null int64\n",
      "Total_Protiens                466 non-null float64\n",
      "Albumin                       466 non-null float64\n",
      "Albumin_and_Globulin_Ratio    466 non-null float64\n",
      "Dataset                       466 non-null int64\n",
      "dtypes: float64(5), int64(5), object(1)\n",
      "memory usage: 40.1+ KB\n"
     ]
    }
   ],
   "source": [
    "pd1.info()"
   ]
  },
  {
   "cell_type": "code",
   "execution_count": 11,
   "metadata": {},
   "outputs": [
    {
     "data": {
      "text/html": [
       "<div>\n",
       "<style scoped>\n",
       "    .dataframe tbody tr th:only-of-type {\n",
       "        vertical-align: middle;\n",
       "    }\n",
       "\n",
       "    .dataframe tbody tr th {\n",
       "        vertical-align: top;\n",
       "    }\n",
       "\n",
       "    .dataframe thead th {\n",
       "        text-align: right;\n",
       "    }\n",
       "</style>\n",
       "<table border=\"1\" class=\"dataframe\">\n",
       "  <thead>\n",
       "    <tr style=\"text-align: right;\">\n",
       "      <th></th>\n",
       "      <th>Age</th>\n",
       "      <th>Total_Bilirubin</th>\n",
       "      <th>Direct_Bilirubin</th>\n",
       "      <th>Alkaline_Phosphotase</th>\n",
       "      <th>Alamine_Aminotransferase</th>\n",
       "      <th>Aspartate_Aminotransferase</th>\n",
       "      <th>Total_Protiens</th>\n",
       "      <th>Albumin</th>\n",
       "      <th>Albumin_and_Globulin_Ratio</th>\n",
       "      <th>Dataset</th>\n",
       "    </tr>\n",
       "  </thead>\n",
       "  <tbody>\n",
       "    <tr>\n",
       "      <th>count</th>\n",
       "      <td>466.000000</td>\n",
       "      <td>466.000000</td>\n",
       "      <td>466.000000</td>\n",
       "      <td>466.000000</td>\n",
       "      <td>466.000000</td>\n",
       "      <td>466.000000</td>\n",
       "      <td>466.000000</td>\n",
       "      <td>466.000000</td>\n",
       "      <td>466.000000</td>\n",
       "      <td>466.000000</td>\n",
       "    </tr>\n",
       "    <tr>\n",
       "      <th>mean</th>\n",
       "      <td>45.321888</td>\n",
       "      <td>3.406438</td>\n",
       "      <td>1.503004</td>\n",
       "      <td>294.877682</td>\n",
       "      <td>82.633047</td>\n",
       "      <td>114.982833</td>\n",
       "      <td>6.491845</td>\n",
       "      <td>3.149356</td>\n",
       "      <td>0.954104</td>\n",
       "      <td>1.285408</td>\n",
       "    </tr>\n",
       "    <tr>\n",
       "      <th>std</th>\n",
       "      <td>15.697936</td>\n",
       "      <td>6.510448</td>\n",
       "      <td>2.823700</td>\n",
       "      <td>252.718859</td>\n",
       "      <td>192.801900</td>\n",
       "      <td>312.869109</td>\n",
       "      <td>1.096455</td>\n",
       "      <td>0.805285</td>\n",
       "      <td>0.332568</td>\n",
       "      <td>0.452094</td>\n",
       "    </tr>\n",
       "    <tr>\n",
       "      <th>min</th>\n",
       "      <td>4.000000</td>\n",
       "      <td>0.400000</td>\n",
       "      <td>0.100000</td>\n",
       "      <td>63.000000</td>\n",
       "      <td>10.000000</td>\n",
       "      <td>10.000000</td>\n",
       "      <td>2.700000</td>\n",
       "      <td>0.900000</td>\n",
       "      <td>0.300000</td>\n",
       "      <td>1.000000</td>\n",
       "    </tr>\n",
       "    <tr>\n",
       "      <th>25%</th>\n",
       "      <td>33.000000</td>\n",
       "      <td>0.800000</td>\n",
       "      <td>0.200000</td>\n",
       "      <td>176.000000</td>\n",
       "      <td>23.000000</td>\n",
       "      <td>25.000000</td>\n",
       "      <td>5.800000</td>\n",
       "      <td>2.600000</td>\n",
       "      <td>0.700000</td>\n",
       "      <td>1.000000</td>\n",
       "    </tr>\n",
       "    <tr>\n",
       "      <th>50%</th>\n",
       "      <td>46.000000</td>\n",
       "      <td>1.000000</td>\n",
       "      <td>0.300000</td>\n",
       "      <td>210.000000</td>\n",
       "      <td>36.000000</td>\n",
       "      <td>42.000000</td>\n",
       "      <td>6.600000</td>\n",
       "      <td>3.100000</td>\n",
       "      <td>0.960000</td>\n",
       "      <td>1.000000</td>\n",
       "    </tr>\n",
       "    <tr>\n",
       "      <th>75%</th>\n",
       "      <td>58.000000</td>\n",
       "      <td>2.575000</td>\n",
       "      <td>1.300000</td>\n",
       "      <td>298.000000</td>\n",
       "      <td>60.000000</td>\n",
       "      <td>88.000000</td>\n",
       "      <td>7.200000</td>\n",
       "      <td>3.800000</td>\n",
       "      <td>1.100000</td>\n",
       "      <td>2.000000</td>\n",
       "    </tr>\n",
       "    <tr>\n",
       "      <th>max</th>\n",
       "      <td>85.000000</td>\n",
       "      <td>75.000000</td>\n",
       "      <td>19.700000</td>\n",
       "      <td>2110.000000</td>\n",
       "      <td>2000.000000</td>\n",
       "      <td>4929.000000</td>\n",
       "      <td>9.600000</td>\n",
       "      <td>5.500000</td>\n",
       "      <td>2.800000</td>\n",
       "      <td>2.000000</td>\n",
       "    </tr>\n",
       "  </tbody>\n",
       "</table>\n",
       "</div>"
      ],
      "text/plain": [
       "              Age  Total_Bilirubin  Direct_Bilirubin  Alkaline_Phosphotase  \\\n",
       "count  466.000000       466.000000        466.000000            466.000000   \n",
       "mean    45.321888         3.406438          1.503004            294.877682   \n",
       "std     15.697936         6.510448          2.823700            252.718859   \n",
       "min      4.000000         0.400000          0.100000             63.000000   \n",
       "25%     33.000000         0.800000          0.200000            176.000000   \n",
       "50%     46.000000         1.000000          0.300000            210.000000   \n",
       "75%     58.000000         2.575000          1.300000            298.000000   \n",
       "max     85.000000        75.000000         19.700000           2110.000000   \n",
       "\n",
       "       Alamine_Aminotransferase  Aspartate_Aminotransferase  Total_Protiens  \\\n",
       "count                466.000000                  466.000000      466.000000   \n",
       "mean                  82.633047                  114.982833        6.491845   \n",
       "std                  192.801900                  312.869109        1.096455   \n",
       "min                   10.000000                   10.000000        2.700000   \n",
       "25%                   23.000000                   25.000000        5.800000   \n",
       "50%                   36.000000                   42.000000        6.600000   \n",
       "75%                   60.000000                   88.000000        7.200000   \n",
       "max                 2000.000000                 4929.000000        9.600000   \n",
       "\n",
       "          Albumin  Albumin_and_Globulin_Ratio     Dataset  \n",
       "count  466.000000                  466.000000  466.000000  \n",
       "mean     3.149356                    0.954104    1.285408  \n",
       "std      0.805285                    0.332568    0.452094  \n",
       "min      0.900000                    0.300000    1.000000  \n",
       "25%      2.600000                    0.700000    1.000000  \n",
       "50%      3.100000                    0.960000    1.000000  \n",
       "75%      3.800000                    1.100000    2.000000  \n",
       "max      5.500000                    2.800000    2.000000  "
      ]
     },
     "execution_count": 11,
     "metadata": {},
     "output_type": "execute_result"
    }
   ],
   "source": [
    "pd1.describe()"
   ]
  },
  {
   "cell_type": "code",
   "execution_count": 12,
   "metadata": {},
   "outputs": [
    {
     "data": {
      "text/html": [
       "<div>\n",
       "<style scoped>\n",
       "    .dataframe tbody tr th:only-of-type {\n",
       "        vertical-align: middle;\n",
       "    }\n",
       "\n",
       "    .dataframe tbody tr th {\n",
       "        vertical-align: top;\n",
       "    }\n",
       "\n",
       "    .dataframe thead th {\n",
       "        text-align: right;\n",
       "    }\n",
       "</style>\n",
       "<table border=\"1\" class=\"dataframe\">\n",
       "  <thead>\n",
       "    <tr style=\"text-align: right;\">\n",
       "      <th></th>\n",
       "      <th>Age</th>\n",
       "      <th>Total_Bilirubin</th>\n",
       "      <th>Direct_Bilirubin</th>\n",
       "      <th>Alkaline_Phosphotase</th>\n",
       "      <th>Alamine_Aminotransferase</th>\n",
       "      <th>Aspartate_Aminotransferase</th>\n",
       "      <th>Total_Protiens</th>\n",
       "      <th>Albumin</th>\n",
       "      <th>Albumin_and_Globulin_Ratio</th>\n",
       "      <th>Dataset</th>\n",
       "    </tr>\n",
       "  </thead>\n",
       "  <tbody>\n",
       "    <tr>\n",
       "      <th>Age</th>\n",
       "      <td>1.000000</td>\n",
       "      <td>0.017007</td>\n",
       "      <td>0.004349</td>\n",
       "      <td>0.112266</td>\n",
       "      <td>-0.066935</td>\n",
       "      <td>0.005839</td>\n",
       "      <td>-0.202705</td>\n",
       "      <td>-0.281515</td>\n",
       "      <td>-0.220908</td>\n",
       "      <td>-0.136606</td>\n",
       "    </tr>\n",
       "    <tr>\n",
       "      <th>Total_Bilirubin</th>\n",
       "      <td>0.017007</td>\n",
       "      <td>1.000000</td>\n",
       "      <td>0.866070</td>\n",
       "      <td>0.153458</td>\n",
       "      <td>0.202096</td>\n",
       "      <td>0.227747</td>\n",
       "      <td>0.006593</td>\n",
       "      <td>-0.211662</td>\n",
       "      <td>-0.188044</td>\n",
       "      <td>-0.216970</td>\n",
       "    </tr>\n",
       "    <tr>\n",
       "      <th>Direct_Bilirubin</th>\n",
       "      <td>0.004349</td>\n",
       "      <td>0.866070</td>\n",
       "      <td>1.000000</td>\n",
       "      <td>0.186806</td>\n",
       "      <td>0.235821</td>\n",
       "      <td>0.260630</td>\n",
       "      <td>0.023680</td>\n",
       "      <td>-0.213277</td>\n",
       "      <td>-0.173664</td>\n",
       "      <td>-0.243594</td>\n",
       "    </tr>\n",
       "    <tr>\n",
       "      <th>Alkaline_Phosphotase</th>\n",
       "      <td>0.112266</td>\n",
       "      <td>0.153458</td>\n",
       "      <td>0.186806</td>\n",
       "      <td>1.000000</td>\n",
       "      <td>0.100744</td>\n",
       "      <td>0.151079</td>\n",
       "      <td>-0.023904</td>\n",
       "      <td>-0.165888</td>\n",
       "      <td>-0.239021</td>\n",
       "      <td>-0.187186</td>\n",
       "    </tr>\n",
       "    <tr>\n",
       "      <th>Alamine_Aminotransferase</th>\n",
       "      <td>-0.066935</td>\n",
       "      <td>0.202096</td>\n",
       "      <td>0.235821</td>\n",
       "      <td>0.100744</td>\n",
       "      <td>1.000000</td>\n",
       "      <td>0.784251</td>\n",
       "      <td>-0.033468</td>\n",
       "      <td>-0.010968</td>\n",
       "      <td>0.015316</td>\n",
       "      <td>-0.156944</td>\n",
       "    </tr>\n",
       "    <tr>\n",
       "      <th>Aspartate_Aminotransferase</th>\n",
       "      <td>0.005839</td>\n",
       "      <td>0.227747</td>\n",
       "      <td>0.260630</td>\n",
       "      <td>0.151079</td>\n",
       "      <td>0.784251</td>\n",
       "      <td>1.000000</td>\n",
       "      <td>-0.016300</td>\n",
       "      <td>-0.075667</td>\n",
       "      <td>-0.059740</td>\n",
       "      <td>-0.148021</td>\n",
       "    </tr>\n",
       "    <tr>\n",
       "      <th>Total_Protiens</th>\n",
       "      <td>-0.202705</td>\n",
       "      <td>0.006593</td>\n",
       "      <td>0.023680</td>\n",
       "      <td>-0.023904</td>\n",
       "      <td>-0.033468</td>\n",
       "      <td>-0.016300</td>\n",
       "      <td>1.000000</td>\n",
       "      <td>0.773420</td>\n",
       "      <td>0.214273</td>\n",
       "      <td>0.048957</td>\n",
       "    </tr>\n",
       "    <tr>\n",
       "      <th>Albumin</th>\n",
       "      <td>-0.281515</td>\n",
       "      <td>-0.211662</td>\n",
       "      <td>-0.213277</td>\n",
       "      <td>-0.165888</td>\n",
       "      <td>-0.010968</td>\n",
       "      <td>-0.075667</td>\n",
       "      <td>0.773420</td>\n",
       "      <td>1.000000</td>\n",
       "      <td>0.669463</td>\n",
       "      <td>0.182147</td>\n",
       "    </tr>\n",
       "    <tr>\n",
       "      <th>Albumin_and_Globulin_Ratio</th>\n",
       "      <td>-0.220908</td>\n",
       "      <td>-0.188044</td>\n",
       "      <td>-0.173664</td>\n",
       "      <td>-0.239021</td>\n",
       "      <td>0.015316</td>\n",
       "      <td>-0.059740</td>\n",
       "      <td>0.214273</td>\n",
       "      <td>0.669463</td>\n",
       "      <td>1.000000</td>\n",
       "      <td>0.171473</td>\n",
       "    </tr>\n",
       "    <tr>\n",
       "      <th>Dataset</th>\n",
       "      <td>-0.136606</td>\n",
       "      <td>-0.216970</td>\n",
       "      <td>-0.243594</td>\n",
       "      <td>-0.187186</td>\n",
       "      <td>-0.156944</td>\n",
       "      <td>-0.148021</td>\n",
       "      <td>0.048957</td>\n",
       "      <td>0.182147</td>\n",
       "      <td>0.171473</td>\n",
       "      <td>1.000000</td>\n",
       "    </tr>\n",
       "  </tbody>\n",
       "</table>\n",
       "</div>"
      ],
      "text/plain": [
       "                                 Age  Total_Bilirubin  Direct_Bilirubin  \\\n",
       "Age                         1.000000         0.017007          0.004349   \n",
       "Total_Bilirubin             0.017007         1.000000          0.866070   \n",
       "Direct_Bilirubin            0.004349         0.866070          1.000000   \n",
       "Alkaline_Phosphotase        0.112266         0.153458          0.186806   \n",
       "Alamine_Aminotransferase   -0.066935         0.202096          0.235821   \n",
       "Aspartate_Aminotransferase  0.005839         0.227747          0.260630   \n",
       "Total_Protiens             -0.202705         0.006593          0.023680   \n",
       "Albumin                    -0.281515        -0.211662         -0.213277   \n",
       "Albumin_and_Globulin_Ratio -0.220908        -0.188044         -0.173664   \n",
       "Dataset                    -0.136606        -0.216970         -0.243594   \n",
       "\n",
       "                            Alkaline_Phosphotase  Alamine_Aminotransferase  \\\n",
       "Age                                     0.112266                 -0.066935   \n",
       "Total_Bilirubin                         0.153458                  0.202096   \n",
       "Direct_Bilirubin                        0.186806                  0.235821   \n",
       "Alkaline_Phosphotase                    1.000000                  0.100744   \n",
       "Alamine_Aminotransferase                0.100744                  1.000000   \n",
       "Aspartate_Aminotransferase              0.151079                  0.784251   \n",
       "Total_Protiens                         -0.023904                 -0.033468   \n",
       "Albumin                                -0.165888                 -0.010968   \n",
       "Albumin_and_Globulin_Ratio             -0.239021                  0.015316   \n",
       "Dataset                                -0.187186                 -0.156944   \n",
       "\n",
       "                            Aspartate_Aminotransferase  Total_Protiens  \\\n",
       "Age                                           0.005839       -0.202705   \n",
       "Total_Bilirubin                               0.227747        0.006593   \n",
       "Direct_Bilirubin                              0.260630        0.023680   \n",
       "Alkaline_Phosphotase                          0.151079       -0.023904   \n",
       "Alamine_Aminotransferase                      0.784251       -0.033468   \n",
       "Aspartate_Aminotransferase                    1.000000       -0.016300   \n",
       "Total_Protiens                               -0.016300        1.000000   \n",
       "Albumin                                      -0.075667        0.773420   \n",
       "Albumin_and_Globulin_Ratio                   -0.059740        0.214273   \n",
       "Dataset                                      -0.148021        0.048957   \n",
       "\n",
       "                             Albumin  Albumin_and_Globulin_Ratio   Dataset  \n",
       "Age                        -0.281515                   -0.220908 -0.136606  \n",
       "Total_Bilirubin            -0.211662                   -0.188044 -0.216970  \n",
       "Direct_Bilirubin           -0.213277                   -0.173664 -0.243594  \n",
       "Alkaline_Phosphotase       -0.165888                   -0.239021 -0.187186  \n",
       "Alamine_Aminotransferase   -0.010968                    0.015316 -0.156944  \n",
       "Aspartate_Aminotransferase -0.075667                   -0.059740 -0.148021  \n",
       "Total_Protiens              0.773420                    0.214273  0.048957  \n",
       "Albumin                     1.000000                    0.669463  0.182147  \n",
       "Albumin_and_Globulin_Ratio  0.669463                    1.000000  0.171473  \n",
       "Dataset                     0.182147                    0.171473  1.000000  "
      ]
     },
     "execution_count": 12,
     "metadata": {},
     "output_type": "execute_result"
    }
   ],
   "source": [
    "pd1.corr()"
   ]
  },
  {
   "cell_type": "code",
   "execution_count": 13,
   "metadata": {},
   "outputs": [],
   "source": [
    "pd1.drop(columns=['Total_Bilirubin'],inplace=True) # Total_Bilirubin is highly correlated to Direct_Bilirubin"
   ]
  },
  {
   "cell_type": "code",
   "execution_count": 14,
   "metadata": {},
   "outputs": [
    {
     "data": {
      "text/html": [
       "<div>\n",
       "<style scoped>\n",
       "    .dataframe tbody tr th:only-of-type {\n",
       "        vertical-align: middle;\n",
       "    }\n",
       "\n",
       "    .dataframe tbody tr th {\n",
       "        vertical-align: top;\n",
       "    }\n",
       "\n",
       "    .dataframe thead th {\n",
       "        text-align: right;\n",
       "    }\n",
       "</style>\n",
       "<table border=\"1\" class=\"dataframe\">\n",
       "  <thead>\n",
       "    <tr style=\"text-align: right;\">\n",
       "      <th></th>\n",
       "      <th>Gender_Male</th>\n",
       "    </tr>\n",
       "  </thead>\n",
       "  <tbody>\n",
       "    <tr>\n",
       "      <th>0</th>\n",
       "      <td>1</td>\n",
       "    </tr>\n",
       "    <tr>\n",
       "      <th>1</th>\n",
       "      <td>0</td>\n",
       "    </tr>\n",
       "    <tr>\n",
       "      <th>2</th>\n",
       "      <td>1</td>\n",
       "    </tr>\n",
       "    <tr>\n",
       "      <th>3</th>\n",
       "      <td>1</td>\n",
       "    </tr>\n",
       "    <tr>\n",
       "      <th>4</th>\n",
       "      <td>0</td>\n",
       "    </tr>\n",
       "  </tbody>\n",
       "</table>\n",
       "</div>"
      ],
      "text/plain": [
       "   Gender_Male\n",
       "0            1\n",
       "1            0\n",
       "2            1\n",
       "3            1\n",
       "4            0"
      ]
     },
     "execution_count": 14,
     "metadata": {},
     "output_type": "execute_result"
    }
   ],
   "source": [
    "dummy_sex = pd.get_dummies(pd1['Gender'],prefix='Gender',drop_first=True)\n",
    "dummy_sex.head(5)"
   ]
  },
  {
   "cell_type": "code",
   "execution_count": 15,
   "metadata": {},
   "outputs": [
    {
     "data": {
      "text/html": [
       "<div>\n",
       "<style scoped>\n",
       "    .dataframe tbody tr th:only-of-type {\n",
       "        vertical-align: middle;\n",
       "    }\n",
       "\n",
       "    .dataframe tbody tr th {\n",
       "        vertical-align: top;\n",
       "    }\n",
       "\n",
       "    .dataframe thead th {\n",
       "        text-align: right;\n",
       "    }\n",
       "</style>\n",
       "<table border=\"1\" class=\"dataframe\">\n",
       "  <thead>\n",
       "    <tr style=\"text-align: right;\">\n",
       "      <th></th>\n",
       "      <th>Gender_Male</th>\n",
       "      <th>Age</th>\n",
       "      <th>Direct_Bilirubin</th>\n",
       "      <th>Alkaline_Phosphotase</th>\n",
       "      <th>Alamine_Aminotransferase</th>\n",
       "      <th>Aspartate_Aminotransferase</th>\n",
       "      <th>Total_Protiens</th>\n",
       "      <th>Albumin</th>\n",
       "      <th>Albumin_and_Globulin_Ratio</th>\n",
       "      <th>Dataset</th>\n",
       "    </tr>\n",
       "  </thead>\n",
       "  <tbody>\n",
       "    <tr>\n",
       "      <th>0</th>\n",
       "      <td>1</td>\n",
       "      <td>60</td>\n",
       "      <td>3.2</td>\n",
       "      <td>314</td>\n",
       "      <td>118</td>\n",
       "      <td>114</td>\n",
       "      <td>6.6</td>\n",
       "      <td>3.7</td>\n",
       "      <td>1.27</td>\n",
       "      <td>1</td>\n",
       "    </tr>\n",
       "    <tr>\n",
       "      <th>1</th>\n",
       "      <td>0</td>\n",
       "      <td>31</td>\n",
       "      <td>0.2</td>\n",
       "      <td>158</td>\n",
       "      <td>21</td>\n",
       "      <td>16</td>\n",
       "      <td>6.0</td>\n",
       "      <td>3.0</td>\n",
       "      <td>1.00</td>\n",
       "      <td>1</td>\n",
       "    </tr>\n",
       "    <tr>\n",
       "      <th>2</th>\n",
       "      <td>1</td>\n",
       "      <td>60</td>\n",
       "      <td>9.5</td>\n",
       "      <td>466</td>\n",
       "      <td>46</td>\n",
       "      <td>52</td>\n",
       "      <td>6.1</td>\n",
       "      <td>2.0</td>\n",
       "      <td>0.40</td>\n",
       "      <td>1</td>\n",
       "    </tr>\n",
       "    <tr>\n",
       "      <th>3</th>\n",
       "      <td>1</td>\n",
       "      <td>34</td>\n",
       "      <td>4.0</td>\n",
       "      <td>298</td>\n",
       "      <td>58</td>\n",
       "      <td>138</td>\n",
       "      <td>5.8</td>\n",
       "      <td>2.4</td>\n",
       "      <td>0.70</td>\n",
       "      <td>1</td>\n",
       "    </tr>\n",
       "    <tr>\n",
       "      <th>4</th>\n",
       "      <td>0</td>\n",
       "      <td>26</td>\n",
       "      <td>0.2</td>\n",
       "      <td>154</td>\n",
       "      <td>16</td>\n",
       "      <td>12</td>\n",
       "      <td>7.0</td>\n",
       "      <td>3.5</td>\n",
       "      <td>1.00</td>\n",
       "      <td>1</td>\n",
       "    </tr>\n",
       "  </tbody>\n",
       "</table>\n",
       "</div>"
      ],
      "text/plain": [
       "   Gender_Male  Age  Direct_Bilirubin  Alkaline_Phosphotase  \\\n",
       "0            1   60               3.2                   314   \n",
       "1            0   31               0.2                   158   \n",
       "2            1   60               9.5                   466   \n",
       "3            1   34               4.0                   298   \n",
       "4            0   26               0.2                   154   \n",
       "\n",
       "   Alamine_Aminotransferase  Aspartate_Aminotransferase  Total_Protiens  \\\n",
       "0                       118                         114             6.6   \n",
       "1                        21                          16             6.0   \n",
       "2                        46                          52             6.1   \n",
       "3                        58                         138             5.8   \n",
       "4                        16                          12             7.0   \n",
       "\n",
       "   Albumin  Albumin_and_Globulin_Ratio  Dataset  \n",
       "0      3.7                        1.27        1  \n",
       "1      3.0                        1.00        1  \n",
       "2      2.0                        0.40        1  \n",
       "3      2.4                        0.70        1  \n",
       "4      3.5                        1.00        1  "
      ]
     },
     "execution_count": 15,
     "metadata": {},
     "output_type": "execute_result"
    }
   ],
   "source": [
    "pd1 = pd.concat([dummy_sex,pd1],axis=1)\n",
    "pd1.drop(columns=['Gender'],inplace=True)\n",
    "pd1.head(5)"
   ]
  },
  {
   "cell_type": "code",
   "execution_count": 16,
   "metadata": {},
   "outputs": [],
   "source": [
    "X = pd1.drop(columns=['Dataset'])\n",
    "y = pd1.Dataset"
   ]
  },
  {
   "cell_type": "code",
   "execution_count": 17,
   "metadata": {},
   "outputs": [
    {
     "data": {
      "text/html": [
       "<div>\n",
       "<style scoped>\n",
       "    .dataframe tbody tr th:only-of-type {\n",
       "        vertical-align: middle;\n",
       "    }\n",
       "\n",
       "    .dataframe tbody tr th {\n",
       "        vertical-align: top;\n",
       "    }\n",
       "\n",
       "    .dataframe thead th {\n",
       "        text-align: right;\n",
       "    }\n",
       "</style>\n",
       "<table border=\"1\" class=\"dataframe\">\n",
       "  <thead>\n",
       "    <tr style=\"text-align: right;\">\n",
       "      <th></th>\n",
       "      <th>Gender_Male</th>\n",
       "      <th>Age</th>\n",
       "      <th>Direct_Bilirubin</th>\n",
       "      <th>Alkaline_Phosphotase</th>\n",
       "      <th>Alamine_Aminotransferase</th>\n",
       "      <th>Aspartate_Aminotransferase</th>\n",
       "      <th>Total_Protiens</th>\n",
       "      <th>Albumin</th>\n",
       "      <th>Albumin_and_Globulin_Ratio</th>\n",
       "    </tr>\n",
       "  </thead>\n",
       "  <tbody>\n",
       "    <tr>\n",
       "      <th>0</th>\n",
       "      <td>1</td>\n",
       "      <td>60</td>\n",
       "      <td>3.2</td>\n",
       "      <td>314</td>\n",
       "      <td>118</td>\n",
       "      <td>114</td>\n",
       "      <td>6.6</td>\n",
       "      <td>3.7</td>\n",
       "      <td>1.27</td>\n",
       "    </tr>\n",
       "    <tr>\n",
       "      <th>1</th>\n",
       "      <td>0</td>\n",
       "      <td>31</td>\n",
       "      <td>0.2</td>\n",
       "      <td>158</td>\n",
       "      <td>21</td>\n",
       "      <td>16</td>\n",
       "      <td>6.0</td>\n",
       "      <td>3.0</td>\n",
       "      <td>1.00</td>\n",
       "    </tr>\n",
       "    <tr>\n",
       "      <th>2</th>\n",
       "      <td>1</td>\n",
       "      <td>60</td>\n",
       "      <td>9.5</td>\n",
       "      <td>466</td>\n",
       "      <td>46</td>\n",
       "      <td>52</td>\n",
       "      <td>6.1</td>\n",
       "      <td>2.0</td>\n",
       "      <td>0.40</td>\n",
       "    </tr>\n",
       "    <tr>\n",
       "      <th>3</th>\n",
       "      <td>1</td>\n",
       "      <td>34</td>\n",
       "      <td>4.0</td>\n",
       "      <td>298</td>\n",
       "      <td>58</td>\n",
       "      <td>138</td>\n",
       "      <td>5.8</td>\n",
       "      <td>2.4</td>\n",
       "      <td>0.70</td>\n",
       "    </tr>\n",
       "    <tr>\n",
       "      <th>4</th>\n",
       "      <td>0</td>\n",
       "      <td>26</td>\n",
       "      <td>0.2</td>\n",
       "      <td>154</td>\n",
       "      <td>16</td>\n",
       "      <td>12</td>\n",
       "      <td>7.0</td>\n",
       "      <td>3.5</td>\n",
       "      <td>1.00</td>\n",
       "    </tr>\n",
       "  </tbody>\n",
       "</table>\n",
       "</div>"
      ],
      "text/plain": [
       "   Gender_Male  Age  Direct_Bilirubin  Alkaline_Phosphotase  \\\n",
       "0            1   60               3.2                   314   \n",
       "1            0   31               0.2                   158   \n",
       "2            1   60               9.5                   466   \n",
       "3            1   34               4.0                   298   \n",
       "4            0   26               0.2                   154   \n",
       "\n",
       "   Alamine_Aminotransferase  Aspartate_Aminotransferase  Total_Protiens  \\\n",
       "0                       118                         114             6.6   \n",
       "1                        21                          16             6.0   \n",
       "2                        46                          52             6.1   \n",
       "3                        58                         138             5.8   \n",
       "4                        16                          12             7.0   \n",
       "\n",
       "   Albumin  Albumin_and_Globulin_Ratio  \n",
       "0      3.7                        1.27  \n",
       "1      3.0                        1.00  \n",
       "2      2.0                        0.40  \n",
       "3      2.4                        0.70  \n",
       "4      3.5                        1.00  "
      ]
     },
     "execution_count": 17,
     "metadata": {},
     "output_type": "execute_result"
    }
   ],
   "source": [
    "X.head(5)"
   ]
  },
  {
   "cell_type": "code",
   "execution_count": 18,
   "metadata": {},
   "outputs": [
    {
     "data": {
      "text/plain": [
       "0    1\n",
       "1    1\n",
       "2    1\n",
       "3    1\n",
       "4    1\n",
       "Name: Dataset, dtype: int64"
      ]
     },
     "execution_count": 18,
     "metadata": {},
     "output_type": "execute_result"
    }
   ],
   "source": [
    "y.head(5)"
   ]
  },
  {
   "cell_type": "code",
   "execution_count": 19,
   "metadata": {},
   "outputs": [],
   "source": [
    "from sklearn.model_selection import train_test_split\n",
    "X_train, X_test, y_train, y_test = train_test_split(X,y,random_state=1)"
   ]
  },
  {
   "cell_type": "code",
   "execution_count": 20,
   "metadata": {},
   "outputs": [
    {
     "name": "stdout",
     "output_type": "stream",
     "text": [
      "0.7350427350427351\n",
      "              precision    recall  f1-score   support\n",
      "\n",
      "           1       0.79      0.90      0.84        90\n",
      "           2       0.36      0.19      0.24        27\n",
      "\n",
      "   micro avg       0.74      0.74      0.74       117\n",
      "   macro avg       0.57      0.54      0.54       117\n",
      "weighted avg       0.69      0.74      0.70       117\n",
      "\n"
     ]
    },
    {
     "name": "stderr",
     "output_type": "stream",
     "text": [
      "/home/kartikchauhan/anaconda3/lib/python3.7/site-packages/sklearn/linear_model/logistic.py:433: FutureWarning: Default solver will be changed to 'lbfgs' in 0.22. Specify a solver to silence this warning.\n",
      "  FutureWarning)\n"
     ]
    }
   ],
   "source": [
    "# Logistic Regression\n",
    "from sklearn.linear_model import LogisticRegression\n",
    "logistic = LogisticRegression()\n",
    "\n",
    "logistic.fit(X_train,y_train)\n",
    "y_pred = logistic.predict(X_test)\n",
    "print(accuracy_score(y_test,y_pred))\n",
    "print(classification_report(y_test,y_pred))"
   ]
  },
  {
   "cell_type": "code",
   "execution_count": 21,
   "metadata": {},
   "outputs": [
    {
     "data": {
      "text/plain": [
       "[(Index(['Gender_Male', 'Age', 'Direct_Bilirubin', 'Alkaline_Phosphotase',\n",
       "         'Alamine_Aminotransferase', 'Aspartate_Aminotransferase',\n",
       "         'Total_Protiens', 'Albumin', 'Albumin_and_Globulin_Ratio'],\n",
       "        dtype='object'),\n",
       "  array([ 0.06217716, -0.01181795, -0.40157579, -0.00120209, -0.00772887,\n",
       "         -0.00227502, -0.24080481,  0.56407534, -0.07631176]))]"
      ]
     },
     "execution_count": 21,
     "metadata": {},
     "output_type": "execute_result"
    }
   ],
   "source": [
    "list(zip([X.columns],logistic.coef_))"
   ]
  },
  {
   "cell_type": "code",
   "execution_count": 22,
   "metadata": {},
   "outputs": [
    {
     "name": "stdout",
     "output_type": "stream",
     "text": [
      "0.47863247863247865\n",
      "              precision    recall  f1-score   support\n",
      "\n",
      "           1       1.00      0.32      0.49        90\n",
      "           2       0.31      1.00      0.47        27\n",
      "\n",
      "   micro avg       0.48      0.48      0.48       117\n",
      "   macro avg       0.65      0.66      0.48       117\n",
      "weighted avg       0.84      0.48      0.48       117\n",
      "\n"
     ]
    }
   ],
   "source": [
    "# Naive Bayes\n",
    "\n",
    "from sklearn.naive_bayes import GaussianNB\n",
    "nb = GaussianNB()\n",
    "nb.fit(X_train,y_train)\n",
    "y_pred = nb.predict(X_test)\n",
    "print(accuracy_score(y_test,y_pred))\n",
    "print(classification_report(y_test,y_pred))"
   ]
  },
  {
   "cell_type": "code",
   "execution_count": 23,
   "metadata": {},
   "outputs": [
    {
     "name": "stdout",
     "output_type": "stream",
     "text": [
      "0.6581196581196581\n",
      "              precision    recall  f1-score   support\n",
      "\n",
      "           1       0.82      0.71      0.76        90\n",
      "           2       0.33      0.48      0.39        27\n",
      "\n",
      "   micro avg       0.66      0.66      0.66       117\n",
      "   macro avg       0.58      0.60      0.58       117\n",
      "weighted avg       0.71      0.66      0.68       117\n",
      "\n"
     ]
    }
   ],
   "source": [
    "# Decision Tree\n",
    "from sklearn.tree import DecisionTreeClassifier\n",
    "decisiontree = DecisionTreeClassifier()\n",
    "decisiontree.fit(X_train,y_train)\n",
    "y_pred = decisiontree.predict(X_test)\n",
    "print(accuracy_score(y_test,y_pred))\n",
    "print(classification_report(y_test,y_pred))"
   ]
  },
  {
   "cell_type": "code",
   "execution_count": 24,
   "metadata": {},
   "outputs": [
    {
     "name": "stdout",
     "output_type": "stream",
     "text": [
      "0.7094017094017094\n",
      "              precision    recall  f1-score   support\n",
      "\n",
      "           1       0.80      0.83      0.82        90\n",
      "           2       0.35      0.30      0.32        27\n",
      "\n",
      "   micro avg       0.71      0.71      0.71       117\n",
      "   macro avg       0.57      0.56      0.57       117\n",
      "weighted avg       0.69      0.71      0.70       117\n",
      "\n"
     ]
    },
    {
     "name": "stderr",
     "output_type": "stream",
     "text": [
      "/home/kartikchauhan/anaconda3/lib/python3.7/site-packages/sklearn/ensemble/forest.py:246: FutureWarning: The default value of n_estimators will change from 10 in version 0.20 to 100 in 0.22.\n",
      "  \"10 in version 0.20 to 100 in 0.22.\", FutureWarning)\n"
     ]
    }
   ],
   "source": [
    "# Random Forest\n",
    "from sklearn.ensemble import RandomForestClassifier\n",
    "randomforest = RandomForestClassifier()\n",
    "randomforest.fit(X_train,y_train)\n",
    "y_pred = randomforest.predict(X_test)\n",
    "print(accuracy_score(y_test,y_pred))\n",
    "print(classification_report(y_test,y_pred))"
   ]
  },
  {
   "cell_type": "code",
   "execution_count": 25,
   "metadata": {},
   "outputs": [
    {
     "data": {
      "text/plain": [
       "Text(0, 0.5, 'Error Rate')"
      ]
     },
     "execution_count": 25,
     "metadata": {},
     "output_type": "execute_result"
    },
    {
     "data": {
      "image/png": "[encoded data removed]",
      "text/plain": [
       "<Figure size 720x432 with 1 Axes>"
      ]
     },
     "metadata": {
      "needs_background": "light"
     },
     "output_type": "display_data"
    }
   ],
   "source": [
    "from sklearn.neighbors import KNeighborsClassifier\n",
    "error_rate = []\n",
    "for i in range(1,40):\n",
    "    \n",
    "    knn = KNeighborsClassifier(n_neighbors=i)\n",
    "    knn.fit(X_train,y_train)\n",
    "    pred_i = knn.predict(X_test)\n",
    "    error_rate.append(np.mean(pred_i != y_test))\n",
    "    \n",
    "plt.figure(figsize=(10,6))\n",
    "plt.plot(range(1,40),error_rate,color='blue', linestyle='dashed', marker='o',\n",
    "         markerfacecolor='red', markersize=10)\n",
    "plt.title('Error Rate vs. K Value')\n",
    "plt.xlabel('K')\n",
    "plt.ylabel('Error Rate')"
   ]
  },
  {
   "cell_type": "code",
   "execution_count": 26,
   "metadata": {},
   "outputs": [
    {
     "name": "stdout",
     "output_type": "stream",
     "text": [
      "0.7264957264957265\n",
      "              precision    recall  f1-score   support\n",
      "\n",
      "           1       0.81      0.84      0.83        90\n",
      "           2       0.39      0.33      0.36        27\n",
      "\n",
      "   micro avg       0.73      0.73      0.73       117\n",
      "   macro avg       0.60      0.59      0.59       117\n",
      "weighted avg       0.71      0.73      0.72       117\n",
      "\n"
     ]
    }
   ],
   "source": [
    "# KNN\n",
    "knn = KNeighborsClassifier(n_neighbors=16)\n",
    "knn.fit(X_train,y_train)\n",
    "y_pred = knn.predict(X_test)\n",
    "print(accuracy_score(y_test,y_pred))\n",
    "print(classification_report(y_test,y_pred))"
   ]
  },
  {
   "cell_type": "code",
   "execution_count": 27,
   "metadata": {},
   "outputs": [
    {
     "name": "stdout",
     "output_type": "stream",
     "text": [
      "0.7777777777777778\n",
      "              precision    recall  f1-score   support\n",
      "\n",
      "           1       0.78      1.00      0.87        90\n",
      "           2       1.00      0.04      0.07        27\n",
      "\n",
      "   micro avg       0.78      0.78      0.78       117\n",
      "   macro avg       0.89      0.52      0.47       117\n",
      "weighted avg       0.83      0.78      0.69       117\n",
      "\n"
     ]
    },
    {
     "name": "stderr",
     "output_type": "stream",
     "text": [
      "/home/kartikchauhan/anaconda3/lib/python3.7/site-packages/sklearn/svm/base.py:196: FutureWarning: The default value of gamma will change from 'auto' to 'scale' in version 0.22 to account better for unscaled features. Set gamma explicitly to 'auto' or 'scale' to avoid this warning.\n",
      "  \"avoid this warning.\", FutureWarning)\n"
     ]
    }
   ],
   "source": [
    "# Support Vector Classifier\n",
    "from sklearn.svm import SVC\n",
    "svm = SVC()\n",
    "svm.fit(X_train,y_train)\n",
    "y_pred = svm.predict(X_test)\n",
    "print(accuracy_score(y_test,y_pred))\n",
    "print(classification_report(y_test,y_pred))"
   ]
  },
  {
   "cell_type": "markdown",
   "metadata": {},
   "source": [
    "# Before Scaling, maximum accuracy is achieved by Support Machine Algorithm i.e. 77.77%"
   ]
  },
  {
   "cell_type": "markdown",
   "metadata": {},
   "source": [
    "# Scaling"
   ]
  },
  {
   "cell_type": "code",
   "execution_count": 28,
   "metadata": {},
   "outputs": [
    {
     "name": "stderr",
     "output_type": "stream",
     "text": [
      "/home/kartikchauhan/anaconda3/lib/python3.7/site-packages/sklearn/preprocessing/data.py:625: DataConversionWarning: Data with input dtype int64, float64 were all converted to float64 by StandardScaler.\n",
      "  return self.partial_fit(X, y)\n"
     ]
    },
    {
     "data": {
      "text/plain": [
       "StandardScaler(copy=True, with_mean=True, with_std=True)"
      ]
     },
     "execution_count": 28,
     "metadata": {},
     "output_type": "execute_result"
    }
   ],
   "source": [
    "from sklearn.preprocessing import StandardScaler\n",
    "scaler = StandardScaler()\n",
    "scaler.fit(pd1.drop(columns=['Gender_Male','Age','Dataset'],axis=1))"
   ]
  },
  {
   "cell_type": "code",
   "execution_count": 29,
   "metadata": {},
   "outputs": [
    {
     "name": "stderr",
     "output_type": "stream",
     "text": [
      "/home/kartikchauhan/anaconda3/lib/python3.7/site-packages/ipykernel_launcher.py:1: DataConversionWarning: Data with input dtype int64, float64 were all converted to float64 by StandardScaler.\n",
      "  \"\"\"Entry point for launching an IPython kernel.\n"
     ]
    }
   ],
   "source": [
    "scaled_features = scaler.transform(pd1.drop(columns=['Gender_Male','Age','Dataset'],axis=1))\n",
    "pd1_fet = pd.DataFrame(scaled_features,columns=pd1.columns[2:9])"
   ]
  },
  {
   "cell_type": "code",
   "execution_count": 30,
   "metadata": {},
   "outputs": [],
   "source": [
    "# from sklearn.preprocessing import StandardScaler\n",
    "# scaler = StandardScaler()\n",
    "# scaler.fit(pd1.drop(columns=['Gender_Male','Age','Total_Bilirubin','Direct_Bilirubin','Total_Protiens','Albumin','Dataset','Albumin_and_Globulin_Ratio'],axis=1))"
   ]
  },
  {
   "cell_type": "code",
   "execution_count": 31,
   "metadata": {},
   "outputs": [],
   "source": [
    "# scaled_features = scaler.transform(pd1.drop(columns=['Gender_Male','Age','Total_Bilirubin','Direct_Bilirubin','Total_Protiens','Albumin','Dataset','Albumin_and_Globulin_Ratio'],axis=1))\n",
    "# pd1_fet = pd.DataFrame(scaled_features,columns=pd1.columns[4:7])"
   ]
  },
  {
   "cell_type": "code",
   "execution_count": 32,
   "metadata": {},
   "outputs": [
    {
     "data": {
      "text/html": [
       "<div>\n",
       "<style scoped>\n",
       "    .dataframe tbody tr th:only-of-type {\n",
       "        vertical-align: middle;\n",
       "    }\n",
       "\n",
       "    .dataframe tbody tr th {\n",
       "        vertical-align: top;\n",
       "    }\n",
       "\n",
       "    .dataframe thead th {\n",
       "        text-align: right;\n",
       "    }\n",
       "</style>\n",
       "<table border=\"1\" class=\"dataframe\">\n",
       "  <thead>\n",
       "    <tr style=\"text-align: right;\">\n",
       "      <th></th>\n",
       "      <th>Direct_Bilirubin</th>\n",
       "      <th>Alkaline_Phosphotase</th>\n",
       "      <th>Alamine_Aminotransferase</th>\n",
       "      <th>Aspartate_Aminotransferase</th>\n",
       "      <th>Total_Protiens</th>\n",
       "      <th>Albumin</th>\n",
       "      <th>Albumin_and_Globulin_Ratio</th>\n",
       "    </tr>\n",
       "  </thead>\n",
       "  <tbody>\n",
       "    <tr>\n",
       "      <th>0</th>\n",
       "      <td>0.601629</td>\n",
       "      <td>0.075748</td>\n",
       "      <td>0.183634</td>\n",
       "      <td>-0.003145</td>\n",
       "      <td>0.098746</td>\n",
       "      <td>0.684523</td>\n",
       "      <td>0.950891</td>\n",
       "    </tr>\n",
       "    <tr>\n",
       "      <th>1</th>\n",
       "      <td>-0.461949</td>\n",
       "      <td>-0.542202</td>\n",
       "      <td>-0.320014</td>\n",
       "      <td>-0.316711</td>\n",
       "      <td>-0.449060</td>\n",
       "      <td>-0.185669</td>\n",
       "      <td>0.138154</td>\n",
       "    </tr>\n",
       "    <tr>\n",
       "      <th>2</th>\n",
       "      <td>2.835142</td>\n",
       "      <td>0.677853</td>\n",
       "      <td>-0.190208</td>\n",
       "      <td>-0.201524</td>\n",
       "      <td>-0.357759</td>\n",
       "      <td>-1.428801</td>\n",
       "      <td>-1.667928</td>\n",
       "    </tr>\n",
       "    <tr>\n",
       "      <th>3</th>\n",
       "      <td>0.885250</td>\n",
       "      <td>0.012368</td>\n",
       "      <td>-0.127901</td>\n",
       "      <td>0.073647</td>\n",
       "      <td>-0.631662</td>\n",
       "      <td>-0.931548</td>\n",
       "      <td>-0.764887</td>\n",
       "    </tr>\n",
       "    <tr>\n",
       "      <th>4</th>\n",
       "      <td>-0.461949</td>\n",
       "      <td>-0.558047</td>\n",
       "      <td>-0.345975</td>\n",
       "      <td>-0.329510</td>\n",
       "      <td>0.463950</td>\n",
       "      <td>0.435896</td>\n",
       "      <td>0.138154</td>\n",
       "    </tr>\n",
       "  </tbody>\n",
       "</table>\n",
       "</div>"
      ],
      "text/plain": [
       "   Direct_Bilirubin  Alkaline_Phosphotase  Alamine_Aminotransferase  \\\n",
       "0          0.601629              0.075748                  0.183634   \n",
       "1         -0.461949             -0.542202                 -0.320014   \n",
       "2          2.835142              0.677853                 -0.190208   \n",
       "3          0.885250              0.012368                 -0.127901   \n",
       "4         -0.461949             -0.558047                 -0.345975   \n",
       "\n",
       "   Aspartate_Aminotransferase  Total_Protiens   Albumin  \\\n",
       "0                   -0.003145        0.098746  0.684523   \n",
       "1                   -0.316711       -0.449060 -0.185669   \n",
       "2                   -0.201524       -0.357759 -1.428801   \n",
       "3                    0.073647       -0.631662 -0.931548   \n",
       "4                   -0.329510        0.463950  0.435896   \n",
       "\n",
       "   Albumin_and_Globulin_Ratio  \n",
       "0                    0.950891  \n",
       "1                    0.138154  \n",
       "2                   -1.667928  \n",
       "3                   -0.764887  \n",
       "4                    0.138154  "
      ]
     },
     "execution_count": 32,
     "metadata": {},
     "output_type": "execute_result"
    }
   ],
   "source": [
    "pd1_fet.head(5)"
   ]
  },
  {
   "cell_type": "code",
   "execution_count": 33,
   "metadata": {},
   "outputs": [],
   "source": [
    "# pd1_fet = pd.concat([pd1.iloc[:,[0,1,2,3,7,8,9]],pd1_fet],axis=1)"
   ]
  },
  {
   "cell_type": "code",
   "execution_count": 34,
   "metadata": {},
   "outputs": [],
   "source": [
    "pd1_fet = pd.concat([pd1.iloc[:,[0,1]],pd1_fet],axis=1)"
   ]
  },
  {
   "cell_type": "code",
   "execution_count": 35,
   "metadata": {},
   "outputs": [],
   "source": [
    "# pd1_fet.head(5)"
   ]
  },
  {
   "cell_type": "code",
   "execution_count": 36,
   "metadata": {},
   "outputs": [],
   "source": [
    "X = pd1_fet"
   ]
  },
  {
   "cell_type": "code",
   "execution_count": 37,
   "metadata": {},
   "outputs": [
    {
     "data": {
      "text/html": [
       "<div>\n",
       "<style scoped>\n",
       "    .dataframe tbody tr th:only-of-type {\n",
       "        vertical-align: middle;\n",
       "    }\n",
       "\n",
       "    .dataframe tbody tr th {\n",
       "        vertical-align: top;\n",
       "    }\n",
       "\n",
       "    .dataframe thead th {\n",
       "        text-align: right;\n",
       "    }\n",
       "</style>\n",
       "<table border=\"1\" class=\"dataframe\">\n",
       "  <thead>\n",
       "    <tr style=\"text-align: right;\">\n",
       "      <th></th>\n",
       "      <th>Gender_Male</th>\n",
       "      <th>Age</th>\n",
       "      <th>Direct_Bilirubin</th>\n",
       "      <th>Alkaline_Phosphotase</th>\n",
       "      <th>Alamine_Aminotransferase</th>\n",
       "      <th>Aspartate_Aminotransferase</th>\n",
       "      <th>Total_Protiens</th>\n",
       "      <th>Albumin</th>\n",
       "      <th>Albumin_and_Globulin_Ratio</th>\n",
       "    </tr>\n",
       "  </thead>\n",
       "  <tbody>\n",
       "    <tr>\n",
       "      <th>0</th>\n",
       "      <td>1</td>\n",
       "      <td>60</td>\n",
       "      <td>0.601629</td>\n",
       "      <td>0.075748</td>\n",
       "      <td>0.183634</td>\n",
       "      <td>-0.003145</td>\n",
       "      <td>0.098746</td>\n",
       "      <td>0.684523</td>\n",
       "      <td>0.950891</td>\n",
       "    </tr>\n",
       "    <tr>\n",
       "      <th>1</th>\n",
       "      <td>0</td>\n",
       "      <td>31</td>\n",
       "      <td>-0.461949</td>\n",
       "      <td>-0.542202</td>\n",
       "      <td>-0.320014</td>\n",
       "      <td>-0.316711</td>\n",
       "      <td>-0.449060</td>\n",
       "      <td>-0.185669</td>\n",
       "      <td>0.138154</td>\n",
       "    </tr>\n",
       "    <tr>\n",
       "      <th>2</th>\n",
       "      <td>1</td>\n",
       "      <td>60</td>\n",
       "      <td>2.835142</td>\n",
       "      <td>0.677853</td>\n",
       "      <td>-0.190208</td>\n",
       "      <td>-0.201524</td>\n",
       "      <td>-0.357759</td>\n",
       "      <td>-1.428801</td>\n",
       "      <td>-1.667928</td>\n",
       "    </tr>\n",
       "    <tr>\n",
       "      <th>3</th>\n",
       "      <td>1</td>\n",
       "      <td>34</td>\n",
       "      <td>0.885250</td>\n",
       "      <td>0.012368</td>\n",
       "      <td>-0.127901</td>\n",
       "      <td>0.073647</td>\n",
       "      <td>-0.631662</td>\n",
       "      <td>-0.931548</td>\n",
       "      <td>-0.764887</td>\n",
       "    </tr>\n",
       "    <tr>\n",
       "      <th>4</th>\n",
       "      <td>0</td>\n",
       "      <td>26</td>\n",
       "      <td>-0.461949</td>\n",
       "      <td>-0.558047</td>\n",
       "      <td>-0.345975</td>\n",
       "      <td>-0.329510</td>\n",
       "      <td>0.463950</td>\n",
       "      <td>0.435896</td>\n",
       "      <td>0.138154</td>\n",
       "    </tr>\n",
       "  </tbody>\n",
       "</table>\n",
       "</div>"
      ],
      "text/plain": [
       "   Gender_Male  Age  Direct_Bilirubin  Alkaline_Phosphotase  \\\n",
       "0            1   60          0.601629              0.075748   \n",
       "1            0   31         -0.461949             -0.542202   \n",
       "2            1   60          2.835142              0.677853   \n",
       "3            1   34          0.885250              0.012368   \n",
       "4            0   26         -0.461949             -0.558047   \n",
       "\n",
       "   Alamine_Aminotransferase  Aspartate_Aminotransferase  Total_Protiens  \\\n",
       "0                  0.183634                   -0.003145        0.098746   \n",
       "1                 -0.320014                   -0.316711       -0.449060   \n",
       "2                 -0.190208                   -0.201524       -0.357759   \n",
       "3                 -0.127901                    0.073647       -0.631662   \n",
       "4                 -0.345975                   -0.329510        0.463950   \n",
       "\n",
       "    Albumin  Albumin_and_Globulin_Ratio  \n",
       "0  0.684523                    0.950891  \n",
       "1 -0.185669                    0.138154  \n",
       "2 -1.428801                   -1.667928  \n",
       "3 -0.931548                   -0.764887  \n",
       "4  0.435896                    0.138154  "
      ]
     },
     "execution_count": 37,
     "metadata": {},
     "output_type": "execute_result"
    }
   ],
   "source": [
    "X.head(5)"
   ]
  },
  {
   "cell_type": "code",
   "execution_count": 38,
   "metadata": {},
   "outputs": [],
   "source": [
    "# X.drop(columns=['Gender_Male','Age'],inplace=True)"
   ]
  },
  {
   "cell_type": "code",
   "execution_count": 39,
   "metadata": {},
   "outputs": [],
   "source": [
    "X_train, X_test, y_train, y_test = train_test_split(X,y,random_state=1)"
   ]
  },
  {
   "cell_type": "code",
   "execution_count": 40,
   "metadata": {},
   "outputs": [
    {
     "name": "stdout",
     "output_type": "stream",
     "text": [
      "0.7777777777777778\n",
      "              precision    recall  f1-score   support\n",
      "\n",
      "           1       0.82      0.91      0.86        90\n",
      "           2       0.53      0.33      0.41        27\n",
      "\n",
      "   micro avg       0.78      0.78      0.78       117\n",
      "   macro avg       0.67      0.62      0.64       117\n",
      "weighted avg       0.75      0.78      0.76       117\n",
      "\n"
     ]
    },
    {
     "name": "stderr",
     "output_type": "stream",
     "text": [
      "/home/kartikchauhan/anaconda3/lib/python3.7/site-packages/sklearn/linear_model/logistic.py:433: FutureWarning: Default solver will be changed to 'lbfgs' in 0.22. Specify a solver to silence this warning.\n",
      "  FutureWarning)\n"
     ]
    }
   ],
   "source": [
    "# Logistic Regression\n",
    "from sklearn.linear_model import LogisticRegression\n",
    "logistic = LogisticRegression()\n",
    "\n",
    "logistic.fit(X_train,y_train)\n",
    "y_pred = logistic.predict(X_test)\n",
    "print(accuracy_score(y_test,y_pred))\n",
    "print(classification_report(y_test,y_pred))"
   ]
  },
  {
   "cell_type": "code",
   "execution_count": 41,
   "metadata": {},
   "outputs": [],
   "source": [
    "feature_cols = pd1_fet.columns"
   ]
  },
  {
   "cell_type": "code",
   "execution_count": 42,
   "metadata": {},
   "outputs": [
    {
     "data": {
      "text/plain": [
       "[(Index(['Gender_Male', 'Age', 'Direct_Bilirubin', 'Alkaline_Phosphotase',\n",
       "         'Alamine_Aminotransferase', 'Aspartate_Aminotransferase',\n",
       "         'Total_Protiens', 'Albumin', 'Albumin_and_Globulin_Ratio'],\n",
       "        dtype='object'),\n",
       "  array([-0.06020454, -0.01569332, -0.9557597 , -0.36656222, -0.96975879,\n",
       "         -0.73017282, -0.58497963,  0.81074673, -0.26887958]))]"
      ]
     },
     "execution_count": 42,
     "metadata": {},
     "output_type": "execute_result"
    }
   ],
   "source": [
    "list(zip([feature_cols],logistic.coef_))"
   ]
  },
  {
   "cell_type": "code",
   "execution_count": 43,
   "metadata": {},
   "outputs": [
    {
     "name": "stdout",
     "output_type": "stream",
     "text": [
      "0.47863247863247865\n",
      "              precision    recall  f1-score   support\n",
      "\n",
      "           1       1.00      0.32      0.49        90\n",
      "           2       0.31      1.00      0.47        27\n",
      "\n",
      "   micro avg       0.48      0.48      0.48       117\n",
      "   macro avg       0.65      0.66      0.48       117\n",
      "weighted avg       0.84      0.48      0.48       117\n",
      "\n"
     ]
    }
   ],
   "source": [
    "# Naive Bayes\n",
    "from sklearn.naive_bayes import GaussianNB\n",
    "nb = GaussianNB()\n",
    "nb.fit(X_train,y_train)\n",
    "y_pred = nb.predict(X_test)\n",
    "print(accuracy_score(y_test,y_pred))\n",
    "print(classification_report(y_test,y_pred))"
   ]
  },
  {
   "cell_type": "code",
   "execution_count": 44,
   "metadata": {},
   "outputs": [
    {
     "name": "stdout",
     "output_type": "stream",
     "text": [
      "0.6410256410256411\n",
      "              precision    recall  f1-score   support\n",
      "\n",
      "           1       0.81      0.70      0.75        90\n",
      "           2       0.31      0.44      0.36        27\n",
      "\n",
      "   micro avg       0.64      0.64      0.64       117\n",
      "   macro avg       0.56      0.57      0.56       117\n",
      "weighted avg       0.69      0.64      0.66       117\n",
      "\n"
     ]
    }
   ],
   "source": [
    "# Decision Tree\n",
    "from sklearn.tree import DecisionTreeClassifier\n",
    "decisiontree = DecisionTreeClassifier()\n",
    "decisiontree.fit(X_train,y_train)\n",
    "y_pred = decisiontree.predict(X_test)\n",
    "print(accuracy_score(y_test,y_pred))\n",
    "print(classification_report(y_test,y_pred))"
   ]
  },
  {
   "cell_type": "code",
   "execution_count": 45,
   "metadata": {},
   "outputs": [
    {
     "name": "stdout",
     "output_type": "stream",
     "text": [
      "0.717948717948718\n",
      "              precision    recall  f1-score   support\n",
      "\n",
      "           1       0.81      0.83      0.82        90\n",
      "           2       0.38      0.33      0.35        27\n",
      "\n",
      "   micro avg       0.72      0.72      0.72       117\n",
      "   macro avg       0.59      0.58      0.59       117\n",
      "weighted avg       0.71      0.72      0.71       117\n",
      "\n"
     ]
    },
    {
     "name": "stderr",
     "output_type": "stream",
     "text": [
      "/home/kartikchauhan/anaconda3/lib/python3.7/site-packages/sklearn/ensemble/forest.py:246: FutureWarning: The default value of n_estimators will change from 10 in version 0.20 to 100 in 0.22.\n",
      "  \"10 in version 0.20 to 100 in 0.22.\", FutureWarning)\n"
     ]
    }
   ],
   "source": [
    "# Random Forest\n",
    "from sklearn.ensemble import RandomForestClassifier\n",
    "randomforest = RandomForestClassifier()\n",
    "randomforest.fit(X_train,y_train)\n",
    "y_pred = randomforest.predict(X_test)\n",
    "print(accuracy_score(y_test,y_pred))\n",
    "print(classification_report(y_test,y_pred))"
   ]
  },
  {
   "cell_type": "code",
   "execution_count": 46,
   "metadata": {},
   "outputs": [
    {
     "data": {
      "text/plain": [
       "Text(0, 0.5, 'Error Rate')"
      ]
     },
     "execution_count": 46,
     "metadata": {},
     "output_type": "execute_result"
    },
    {
     "data": {
      "image/png": "[encoded data removed]",
      "text/plain": [
       "<Figure size 720x432 with 1 Axes>"
      ]
     },
     "metadata": {
      "needs_background": "light"
     },
     "output_type": "display_data"
    }
   ],
   "source": [
    "from sklearn.neighbors import KNeighborsClassifier\n",
    "error_rate = []\n",
    "for i in range(1,40):\n",
    "    \n",
    "    knn = KNeighborsClassifier(n_neighbors=i)\n",
    "    knn.fit(X_train,y_train)\n",
    "    pred_i = knn.predict(X_test)\n",
    "    error_rate.append(np.mean(pred_i != y_test))\n",
    "    \n",
    "plt.figure(figsize=(10,6))\n",
    "plt.plot(range(1,40),error_rate,color='blue', linestyle='dashed', marker='o',\n",
    "         markerfacecolor='red', markersize=10)\n",
    "plt.title('Error Rate vs. K Value')\n",
    "plt.xlabel('K')\n",
    "plt.ylabel('Error Rate')"
   ]
  },
  {
   "cell_type": "code",
   "execution_count": 47,
   "metadata": {},
   "outputs": [
    {
     "name": "stdout",
     "output_type": "stream",
     "text": [
      "0.7863247863247863\n",
      "              precision    recall  f1-score   support\n",
      "\n",
      "           1       0.79      0.98      0.88        90\n",
      "           2       0.67      0.15      0.24        27\n",
      "\n",
      "   micro avg       0.79      0.79      0.79       117\n",
      "   macro avg       0.73      0.56      0.56       117\n",
      "weighted avg       0.76      0.79      0.73       117\n",
      "\n"
     ]
    }
   ],
   "source": [
    "# KNN\n",
    "\n",
    "knn = KNeighborsClassifier(n_neighbors=16)\n",
    "knn.fit(X_train,y_train)\n",
    "y_pred = knn.predict(X_test)\n",
    "print(accuracy_score(y_test,y_pred))\n",
    "print(classification_report(y_test,y_pred))"
   ]
  },
  {
   "cell_type": "code",
   "execution_count": 48,
   "metadata": {},
   "outputs": [
    {
     "name": "stdout",
     "output_type": "stream",
     "text": [
      "0.6923076923076923\n",
      "              precision    recall  f1-score   support\n",
      "\n",
      "           1       0.77      0.86      0.81        90\n",
      "           2       0.24      0.15      0.18        27\n",
      "\n",
      "   micro avg       0.69      0.69      0.69       117\n",
      "   macro avg       0.50      0.50      0.50       117\n",
      "weighted avg       0.65      0.69      0.67       117\n",
      "\n"
     ]
    },
    {
     "name": "stderr",
     "output_type": "stream",
     "text": [
      "/home/kartikchauhan/anaconda3/lib/python3.7/site-packages/sklearn/svm/base.py:196: FutureWarning: The default value of gamma will change from 'auto' to 'scale' in version 0.22 to account better for unscaled features. Set gamma explicitly to 'auto' or 'scale' to avoid this warning.\n",
      "  \"avoid this warning.\", FutureWarning)\n"
     ]
    }
   ],
   "source": [
    "# Support Vector Classifier\n",
    "from sklearn.svm import SVC\n",
    "svm = SVC()\n",
    "svm.fit(X_train,y_train)\n",
    "y_pred = svm.predict(X_test)\n",
    "print(accuracy_score(y_test,y_pred))\n",
    "print(classification_report(y_test,y_pred))"
   ]
  },
  {
   "cell_type": "markdown",
   "metadata": {},
   "source": [
    "# After Scaling, maximum accuracy is achieved by KNN algorithms i.e. 78.63%"
   ]
  },
  {
   "cell_type": "markdown",
   "metadata": {},
   "source": [
    "# Prediction in Test Data"
   ]
  },
  {
   "cell_type": "code",
   "execution_count": 49,
   "metadata": {},
   "outputs": [],
   "source": [
    "test_data = pd.read_csv(\"problem_1/test.csv\")"
   ]
  },
  {
   "cell_type": "code",
   "execution_count": 50,
   "metadata": {},
   "outputs": [
    {
     "data": {
      "text/html": [
       "<div>\n",
       "<style scoped>\n",
       "    .dataframe tbody tr th:only-of-type {\n",
       "        vertical-align: middle;\n",
       "    }\n",
       "\n",
       "    .dataframe tbody tr th {\n",
       "        vertical-align: top;\n",
       "    }\n",
       "\n",
       "    .dataframe thead th {\n",
       "        text-align: right;\n",
       "    }\n",
       "</style>\n",
       "<table border=\"1\" class=\"dataframe\">\n",
       "  <thead>\n",
       "    <tr style=\"text-align: right;\">\n",
       "      <th></th>\n",
       "      <th>Age</th>\n",
       "      <th>Gender</th>\n",
       "      <th>Total_Bilirubin</th>\n",
       "      <th>Direct_Bilirubin</th>\n",
       "      <th>Alkaline_Phosphotase</th>\n",
       "      <th>Alamine_Aminotransferase</th>\n",
       "      <th>Aspartate_Aminotransferase</th>\n",
       "      <th>Total_Protiens</th>\n",
       "      <th>Albumin</th>\n",
       "      <th>Albumin_and_Globulin_Ratio</th>\n",
       "    </tr>\n",
       "  </thead>\n",
       "  <tbody>\n",
       "    <tr>\n",
       "      <th>0</th>\n",
       "      <td>46</td>\n",
       "      <td>Male</td>\n",
       "      <td>0.8</td>\n",
       "      <td>0.2</td>\n",
       "      <td>160</td>\n",
       "      <td>31</td>\n",
       "      <td>40</td>\n",
       "      <td>7.3</td>\n",
       "      <td>3.8</td>\n",
       "      <td>1.10</td>\n",
       "    </tr>\n",
       "    <tr>\n",
       "      <th>1</th>\n",
       "      <td>15</td>\n",
       "      <td>Male</td>\n",
       "      <td>0.8</td>\n",
       "      <td>0.2</td>\n",
       "      <td>380</td>\n",
       "      <td>25</td>\n",
       "      <td>66</td>\n",
       "      <td>6.1</td>\n",
       "      <td>3.7</td>\n",
       "      <td>1.50</td>\n",
       "    </tr>\n",
       "    <tr>\n",
       "      <th>2</th>\n",
       "      <td>66</td>\n",
       "      <td>Female</td>\n",
       "      <td>4.2</td>\n",
       "      <td>2.1</td>\n",
       "      <td>159</td>\n",
       "      <td>15</td>\n",
       "      <td>30</td>\n",
       "      <td>7.1</td>\n",
       "      <td>2.2</td>\n",
       "      <td>0.40</td>\n",
       "    </tr>\n",
       "    <tr>\n",
       "      <th>3</th>\n",
       "      <td>32</td>\n",
       "      <td>Male</td>\n",
       "      <td>0.6</td>\n",
       "      <td>0.1</td>\n",
       "      <td>237</td>\n",
       "      <td>45</td>\n",
       "      <td>31</td>\n",
       "      <td>7.5</td>\n",
       "      <td>4.3</td>\n",
       "      <td>1.34</td>\n",
       "    </tr>\n",
       "    <tr>\n",
       "      <th>4</th>\n",
       "      <td>60</td>\n",
       "      <td>Male</td>\n",
       "      <td>2.6</td>\n",
       "      <td>1.2</td>\n",
       "      <td>171</td>\n",
       "      <td>42</td>\n",
       "      <td>37</td>\n",
       "      <td>5.4</td>\n",
       "      <td>2.7</td>\n",
       "      <td>1.00</td>\n",
       "    </tr>\n",
       "  </tbody>\n",
       "</table>\n",
       "</div>"
      ],
      "text/plain": [
       "   Age  Gender  Total_Bilirubin  Direct_Bilirubin  Alkaline_Phosphotase  \\\n",
       "0   46    Male              0.8               0.2                   160   \n",
       "1   15    Male              0.8               0.2                   380   \n",
       "2   66  Female              4.2               2.1                   159   \n",
       "3   32    Male              0.6               0.1                   237   \n",
       "4   60    Male              2.6               1.2                   171   \n",
       "\n",
       "   Alamine_Aminotransferase  Aspartate_Aminotransferase  Total_Protiens  \\\n",
       "0                        31                          40             7.3   \n",
       "1                        25                          66             6.1   \n",
       "2                        15                          30             7.1   \n",
       "3                        45                          31             7.5   \n",
       "4                        42                          37             5.4   \n",
       "\n",
       "   Albumin  Albumin_and_Globulin_Ratio  \n",
       "0      3.8                        1.10  \n",
       "1      3.7                        1.50  \n",
       "2      2.2                        0.40  \n",
       "3      4.3                        1.34  \n",
       "4      2.7                        1.00  "
      ]
     },
     "execution_count": 50,
     "metadata": {},
     "output_type": "execute_result"
    }
   ],
   "source": [
    "test_data.head(5)"
   ]
  },
  {
   "cell_type": "code",
   "execution_count": 51,
   "metadata": {},
   "outputs": [
    {
     "data": {
      "text/plain": [
       "(117, 10)"
      ]
     },
     "execution_count": 51,
     "metadata": {},
     "output_type": "execute_result"
    }
   ],
   "source": [
    "test_data.shape"
   ]
  },
  {
   "cell_type": "code",
   "execution_count": 52,
   "metadata": {},
   "outputs": [
    {
     "data": {
      "text/plain": [
       "Age                           0\n",
       "Gender                        0\n",
       "Total_Bilirubin               0\n",
       "Direct_Bilirubin              0\n",
       "Alkaline_Phosphotase          0\n",
       "Alamine_Aminotransferase      0\n",
       "Aspartate_Aminotransferase    0\n",
       "Total_Protiens                0\n",
       "Albumin                       0\n",
       "Albumin_and_Globulin_Ratio    1\n",
       "dtype: int64"
      ]
     },
     "execution_count": 52,
     "metadata": {},
     "output_type": "execute_result"
    }
   ],
   "source": [
    "test_data.isnull().sum()"
   ]
  },
  {
   "cell_type": "code",
   "execution_count": 53,
   "metadata": {},
   "outputs": [],
   "source": [
    "test_data['Albumin_and_Globulin_Ratio'].fillna((test_data['Albumin_and_Globulin_Ratio'].mean()),inplace=True)"
   ]
  },
  {
   "cell_type": "code",
   "execution_count": 54,
   "metadata": {},
   "outputs": [],
   "source": [
    "test_data.drop(columns=['Total_Bilirubin'],inplace=True) # Total_Bilirubin is highly correlated to Direct_Bilirubin"
   ]
  },
  {
   "cell_type": "code",
   "execution_count": 55,
   "metadata": {},
   "outputs": [
    {
     "data": {
      "text/html": [
       "<div>\n",
       "<style scoped>\n",
       "    .dataframe tbody tr th:only-of-type {\n",
       "        vertical-align: middle;\n",
       "    }\n",
       "\n",
       "    .dataframe tbody tr th {\n",
       "        vertical-align: top;\n",
       "    }\n",
       "\n",
       "    .dataframe thead th {\n",
       "        text-align: right;\n",
       "    }\n",
       "</style>\n",
       "<table border=\"1\" class=\"dataframe\">\n",
       "  <thead>\n",
       "    <tr style=\"text-align: right;\">\n",
       "      <th></th>\n",
       "      <th>Gender_Male</th>\n",
       "      <th>Age</th>\n",
       "      <th>Direct_Bilirubin</th>\n",
       "      <th>Alkaline_Phosphotase</th>\n",
       "      <th>Alamine_Aminotransferase</th>\n",
       "      <th>Aspartate_Aminotransferase</th>\n",
       "      <th>Total_Protiens</th>\n",
       "      <th>Albumin</th>\n",
       "      <th>Albumin_and_Globulin_Ratio</th>\n",
       "    </tr>\n",
       "  </thead>\n",
       "  <tbody>\n",
       "    <tr>\n",
       "      <th>0</th>\n",
       "      <td>1</td>\n",
       "      <td>46</td>\n",
       "      <td>0.2</td>\n",
       "      <td>160</td>\n",
       "      <td>31</td>\n",
       "      <td>40</td>\n",
       "      <td>7.3</td>\n",
       "      <td>3.8</td>\n",
       "      <td>1.10</td>\n",
       "    </tr>\n",
       "    <tr>\n",
       "      <th>1</th>\n",
       "      <td>1</td>\n",
       "      <td>15</td>\n",
       "      <td>0.2</td>\n",
       "      <td>380</td>\n",
       "      <td>25</td>\n",
       "      <td>66</td>\n",
       "      <td>6.1</td>\n",
       "      <td>3.7</td>\n",
       "      <td>1.50</td>\n",
       "    </tr>\n",
       "    <tr>\n",
       "      <th>2</th>\n",
       "      <td>0</td>\n",
       "      <td>66</td>\n",
       "      <td>2.1</td>\n",
       "      <td>159</td>\n",
       "      <td>15</td>\n",
       "      <td>30</td>\n",
       "      <td>7.1</td>\n",
       "      <td>2.2</td>\n",
       "      <td>0.40</td>\n",
       "    </tr>\n",
       "    <tr>\n",
       "      <th>3</th>\n",
       "      <td>1</td>\n",
       "      <td>32</td>\n",
       "      <td>0.1</td>\n",
       "      <td>237</td>\n",
       "      <td>45</td>\n",
       "      <td>31</td>\n",
       "      <td>7.5</td>\n",
       "      <td>4.3</td>\n",
       "      <td>1.34</td>\n",
       "    </tr>\n",
       "    <tr>\n",
       "      <th>4</th>\n",
       "      <td>1</td>\n",
       "      <td>60</td>\n",
       "      <td>1.2</td>\n",
       "      <td>171</td>\n",
       "      <td>42</td>\n",
       "      <td>37</td>\n",
       "      <td>5.4</td>\n",
       "      <td>2.7</td>\n",
       "      <td>1.00</td>\n",
       "    </tr>\n",
       "  </tbody>\n",
       "</table>\n",
       "</div>"
      ],
      "text/plain": [
       "   Gender_Male  Age  Direct_Bilirubin  Alkaline_Phosphotase  \\\n",
       "0            1   46               0.2                   160   \n",
       "1            1   15               0.2                   380   \n",
       "2            0   66               2.1                   159   \n",
       "3            1   32               0.1                   237   \n",
       "4            1   60               1.2                   171   \n",
       "\n",
       "   Alamine_Aminotransferase  Aspartate_Aminotransferase  Total_Protiens  \\\n",
       "0                        31                          40             7.3   \n",
       "1                        25                          66             6.1   \n",
       "2                        15                          30             7.1   \n",
       "3                        45                          31             7.5   \n",
       "4                        42                          37             5.4   \n",
       "\n",
       "   Albumin  Albumin_and_Globulin_Ratio  \n",
       "0      3.8                        1.10  \n",
       "1      3.7                        1.50  \n",
       "2      2.2                        0.40  \n",
       "3      4.3                        1.34  \n",
       "4      2.7                        1.00  "
      ]
     },
     "execution_count": 55,
     "metadata": {},
     "output_type": "execute_result"
    }
   ],
   "source": [
    "dummy_sex = pd.get_dummies(test_data['Gender'],prefix='Gender',drop_first=True)\n",
    "test_data = pd.concat([dummy_sex,test_data],axis=1)\n",
    "test_data.drop(columns=['Gender'],inplace=True)\n",
    "test_data.head(5)"
   ]
  },
  {
   "cell_type": "code",
   "execution_count": 56,
   "metadata": {},
   "outputs": [
    {
     "name": "stderr",
     "output_type": "stream",
     "text": [
      "/home/kartikchauhan/anaconda3/lib/python3.7/site-packages/sklearn/preprocessing/data.py:625: DataConversionWarning: Data with input dtype int64, float64 were all converted to float64 by StandardScaler.\n",
      "  return self.partial_fit(X, y)\n",
      "/home/kartikchauhan/anaconda3/lib/python3.7/site-packages/ipykernel_launcher.py:5: DataConversionWarning: Data with input dtype int64, float64 were all converted to float64 by StandardScaler.\n",
      "  \"\"\"\n"
     ]
    }
   ],
   "source": [
    "from sklearn.preprocessing import StandardScaler\n",
    "scaler = StandardScaler()\n",
    "scaler.fit(test_data.drop(columns=['Gender_Male','Age'],axis=1))\n",
    "\n",
    "scaled_features = scaler.transform(test_data.drop(columns=['Gender_Male','Age'],axis=1))\n",
    "test_data_fet = pd.DataFrame(scaled_features,columns=test_data.columns[2:9])\n",
    "\n",
    "test_data_fet = pd.concat([test_data.iloc[:,[0,1]],test_data_fet],axis=1)"
   ]
  },
  {
   "cell_type": "code",
   "execution_count": 57,
   "metadata": {},
   "outputs": [],
   "source": [
    "test_data_pred = knn.predict(test_data_fet)"
   ]
  },
  {
   "cell_type": "code",
   "execution_count": 58,
   "metadata": {},
   "outputs": [
    {
     "data": {
      "text/plain": [
       "array([1, 1, 1, 1, 2, 1, 1, 1, 1, 1, 1, 2, 1, 1, 2, 1, 1, 1, 1, 1, 1, 1,\n",
       "       1, 2, 1, 1, 1, 1, 1, 1, 1, 1, 1, 1, 1, 1, 1, 1, 1, 1, 2, 1, 1, 1,\n",
       "       1, 1, 1, 1, 2, 1, 1, 1, 1, 1, 1, 1, 1, 1, 1, 1, 2, 1, 1, 2, 1, 1,\n",
       "       1, 1, 1, 1, 1, 1, 2, 2, 1, 1, 1, 1, 1, 1, 1, 1, 2, 1, 1, 1, 1, 1,\n",
       "       1, 1, 1, 1, 1, 1, 1, 2, 1, 1, 1, 1, 2, 1, 1, 1, 2, 1, 1, 1, 1, 1,\n",
       "       1, 1, 1, 2, 1, 1, 1])"
      ]
     },
     "execution_count": 58,
     "metadata": {},
     "output_type": "execute_result"
    }
   ],
   "source": [
    "test_data_pred"
   ]
  },
  {
   "cell_type": "code",
   "execution_count": 59,
   "metadata": {},
   "outputs": [],
   "source": [
    "pred = pd.DataFrame(test_data_pred,columns=['Dataset'])"
   ]
  },
  {
   "cell_type": "code",
   "execution_count": 60,
   "metadata": {},
   "outputs": [
    {
     "data": {
      "text/plain": [
       "(117, 1)"
      ]
     },
     "execution_count": 60,
     "metadata": {},
     "output_type": "execute_result"
    }
   ],
   "source": [
    "pred.shape"
   ]
  },
  {
   "cell_type": "code",
   "execution_count": 61,
   "metadata": {},
   "outputs": [
    {
     "data": {
      "text/plain": [
       "(117, 9)"
      ]
     },
     "execution_count": 61,
     "metadata": {},
     "output_type": "execute_result"
    }
   ],
   "source": [
    "test_data_fet.shape"
   ]
  },
  {
   "cell_type": "code",
   "execution_count": 62,
   "metadata": {},
   "outputs": [
    {
     "data": {
      "text/html": [
       "<div>\n",
       "<style scoped>\n",
       "    .dataframe tbody tr th:only-of-type {\n",
       "        vertical-align: middle;\n",
       "    }\n",
       "\n",
       "    .dataframe tbody tr th {\n",
       "        vertical-align: top;\n",
       "    }\n",
       "\n",
       "    .dataframe thead th {\n",
       "        text-align: right;\n",
       "    }\n",
       "</style>\n",
       "<table border=\"1\" class=\"dataframe\">\n",
       "  <thead>\n",
       "    <tr style=\"text-align: right;\">\n",
       "      <th></th>\n",
       "      <th>Gender_Male</th>\n",
       "      <th>Age</th>\n",
       "      <th>Direct_Bilirubin</th>\n",
       "      <th>Alkaline_Phosphotase</th>\n",
       "      <th>Alamine_Aminotransferase</th>\n",
       "      <th>Aspartate_Aminotransferase</th>\n",
       "      <th>Total_Protiens</th>\n",
       "      <th>Albumin</th>\n",
       "      <th>Albumin_and_Globulin_Ratio</th>\n",
       "    </tr>\n",
       "  </thead>\n",
       "  <tbody>\n",
       "    <tr>\n",
       "      <th>0</th>\n",
       "      <td>1</td>\n",
       "      <td>46</td>\n",
       "      <td>-0.443812</td>\n",
       "      <td>-0.571640</td>\n",
       "      <td>-0.312817</td>\n",
       "      <td>-0.310198</td>\n",
       "      <td>0.818653</td>\n",
       "      <td>0.911643</td>\n",
       "      <td>0.715397</td>\n",
       "    </tr>\n",
       "    <tr>\n",
       "      <th>1</th>\n",
       "      <td>1</td>\n",
       "      <td>15</td>\n",
       "      <td>-0.443812</td>\n",
       "      <td>0.536927</td>\n",
       "      <td>-0.357432</td>\n",
       "      <td>-0.147952</td>\n",
       "      <td>-0.335352</td>\n",
       "      <td>0.779143</td>\n",
       "      <td>2.296085</td>\n",
       "    </tr>\n",
       "    <tr>\n",
       "      <th>2</th>\n",
       "      <td>0</td>\n",
       "      <td>66</td>\n",
       "      <td>0.248049</td>\n",
       "      <td>-0.576679</td>\n",
       "      <td>-0.431791</td>\n",
       "      <td>-0.372600</td>\n",
       "      <td>0.626319</td>\n",
       "      <td>-1.208352</td>\n",
       "      <td>-2.050806</td>\n",
       "    </tr>\n",
       "    <tr>\n",
       "      <th>3</th>\n",
       "      <td>1</td>\n",
       "      <td>32</td>\n",
       "      <td>-0.480226</td>\n",
       "      <td>-0.183641</td>\n",
       "      <td>-0.208714</td>\n",
       "      <td>-0.366360</td>\n",
       "      <td>1.010988</td>\n",
       "      <td>1.574142</td>\n",
       "      <td>1.663810</td>\n",
       "    </tr>\n",
       "    <tr>\n",
       "      <th>4</th>\n",
       "      <td>1</td>\n",
       "      <td>60</td>\n",
       "      <td>-0.079675</td>\n",
       "      <td>-0.516211</td>\n",
       "      <td>-0.231022</td>\n",
       "      <td>-0.328918</td>\n",
       "      <td>-1.008522</td>\n",
       "      <td>-0.545853</td>\n",
       "      <td>0.320226</td>\n",
       "    </tr>\n",
       "  </tbody>\n",
       "</table>\n",
       "</div>"
      ],
      "text/plain": [
       "   Gender_Male  Age  Direct_Bilirubin  Alkaline_Phosphotase  \\\n",
       "0            1   46         -0.443812             -0.571640   \n",
       "1            1   15         -0.443812              0.536927   \n",
       "2            0   66          0.248049             -0.576679   \n",
       "3            1   32         -0.480226             -0.183641   \n",
       "4            1   60         -0.079675             -0.516211   \n",
       "\n",
       "   Alamine_Aminotransferase  Aspartate_Aminotransferase  Total_Protiens  \\\n",
       "0                 -0.312817                   -0.310198        0.818653   \n",
       "1                 -0.357432                   -0.147952       -0.335352   \n",
       "2                 -0.431791                   -0.372600        0.626319   \n",
       "3                 -0.208714                   -0.366360        1.010988   \n",
       "4                 -0.231022                   -0.328918       -1.008522   \n",
       "\n",
       "    Albumin  Albumin_and_Globulin_Ratio  \n",
       "0  0.911643                    0.715397  \n",
       "1  0.779143                    2.296085  \n",
       "2 -1.208352                   -2.050806  \n",
       "3  1.574142                    1.663810  \n",
       "4 -0.545853                    0.320226  "
      ]
     },
     "execution_count": 62,
     "metadata": {},
     "output_type": "execute_result"
    }
   ],
   "source": [
    "test_data_fet.head(5)"
   ]
  },
  {
   "cell_type": "code",
   "execution_count": 63,
   "metadata": {},
   "outputs": [
    {
     "data": {
      "text/html": [
       "<div>\n",
       "<style scoped>\n",
       "    .dataframe tbody tr th:only-of-type {\n",
       "        vertical-align: middle;\n",
       "    }\n",
       "\n",
       "    .dataframe tbody tr th {\n",
       "        vertical-align: top;\n",
       "    }\n",
       "\n",
       "    .dataframe thead th {\n",
       "        text-align: right;\n",
       "    }\n",
       "</style>\n",
       "<table border=\"1\" class=\"dataframe\">\n",
       "  <thead>\n",
       "    <tr style=\"text-align: right;\">\n",
       "      <th></th>\n",
       "      <th>Dataset</th>\n",
       "    </tr>\n",
       "  </thead>\n",
       "  <tbody>\n",
       "    <tr>\n",
       "      <th>0</th>\n",
       "      <td>1</td>\n",
       "    </tr>\n",
       "    <tr>\n",
       "      <th>1</th>\n",
       "      <td>1</td>\n",
       "    </tr>\n",
       "    <tr>\n",
       "      <th>2</th>\n",
       "      <td>1</td>\n",
       "    </tr>\n",
       "    <tr>\n",
       "      <th>3</th>\n",
       "      <td>1</td>\n",
       "    </tr>\n",
       "    <tr>\n",
       "      <th>4</th>\n",
       "      <td>2</td>\n",
       "    </tr>\n",
       "  </tbody>\n",
       "</table>\n",
       "</div>"
      ],
      "text/plain": [
       "   Dataset\n",
       "0        1\n",
       "1        1\n",
       "2        1\n",
       "3        1\n",
       "4        2"
      ]
     },
     "execution_count": 63,
     "metadata": {},
     "output_type": "execute_result"
    }
   ],
   "source": [
    "pred.head(5)"
   ]
  },
  {
   "cell_type": "code",
   "execution_count": 64,
   "metadata": {},
   "outputs": [],
   "source": [
    "predicted_test_data = pd.concat([test_data,pred],axis=1)"
   ]
  },
  {
   "cell_type": "code",
   "execution_count": 65,
   "metadata": {},
   "outputs": [
    {
     "data": {
      "text/html": [
       "<div>\n",
       "<style scoped>\n",
       "    .dataframe tbody tr th:only-of-type {\n",
       "        vertical-align: middle;\n",
       "    }\n",
       "\n",
       "    .dataframe tbody tr th {\n",
       "        vertical-align: top;\n",
       "    }\n",
       "\n",
       "    .dataframe thead th {\n",
       "        text-align: right;\n",
       "    }\n",
       "</style>\n",
       "<table border=\"1\" class=\"dataframe\">\n",
       "  <thead>\n",
       "    <tr style=\"text-align: right;\">\n",
       "      <th></th>\n",
       "      <th>Gender_Male</th>\n",
       "      <th>Age</th>\n",
       "      <th>Direct_Bilirubin</th>\n",
       "      <th>Alkaline_Phosphotase</th>\n",
       "      <th>Alamine_Aminotransferase</th>\n",
       "      <th>Aspartate_Aminotransferase</th>\n",
       "      <th>Total_Protiens</th>\n",
       "      <th>Albumin</th>\n",
       "      <th>Albumin_and_Globulin_Ratio</th>\n",
       "      <th>Dataset</th>\n",
       "    </tr>\n",
       "  </thead>\n",
       "  <tbody>\n",
       "    <tr>\n",
       "      <th>0</th>\n",
       "      <td>1</td>\n",
       "      <td>46</td>\n",
       "      <td>0.2</td>\n",
       "      <td>160</td>\n",
       "      <td>31</td>\n",
       "      <td>40</td>\n",
       "      <td>7.3</td>\n",
       "      <td>3.8</td>\n",
       "      <td>1.10</td>\n",
       "      <td>1</td>\n",
       "    </tr>\n",
       "    <tr>\n",
       "      <th>1</th>\n",
       "      <td>1</td>\n",
       "      <td>15</td>\n",
       "      <td>0.2</td>\n",
       "      <td>380</td>\n",
       "      <td>25</td>\n",
       "      <td>66</td>\n",
       "      <td>6.1</td>\n",
       "      <td>3.7</td>\n",
       "      <td>1.50</td>\n",
       "      <td>1</td>\n",
       "    </tr>\n",
       "    <tr>\n",
       "      <th>2</th>\n",
       "      <td>0</td>\n",
       "      <td>66</td>\n",
       "      <td>2.1</td>\n",
       "      <td>159</td>\n",
       "      <td>15</td>\n",
       "      <td>30</td>\n",
       "      <td>7.1</td>\n",
       "      <td>2.2</td>\n",
       "      <td>0.40</td>\n",
       "      <td>1</td>\n",
       "    </tr>\n",
       "    <tr>\n",
       "      <th>3</th>\n",
       "      <td>1</td>\n",
       "      <td>32</td>\n",
       "      <td>0.1</td>\n",
       "      <td>237</td>\n",
       "      <td>45</td>\n",
       "      <td>31</td>\n",
       "      <td>7.5</td>\n",
       "      <td>4.3</td>\n",
       "      <td>1.34</td>\n",
       "      <td>1</td>\n",
       "    </tr>\n",
       "    <tr>\n",
       "      <th>4</th>\n",
       "      <td>1</td>\n",
       "      <td>60</td>\n",
       "      <td>1.2</td>\n",
       "      <td>171</td>\n",
       "      <td>42</td>\n",
       "      <td>37</td>\n",
       "      <td>5.4</td>\n",
       "      <td>2.7</td>\n",
       "      <td>1.00</td>\n",
       "      <td>2</td>\n",
       "    </tr>\n",
       "  </tbody>\n",
       "</table>\n",
       "</div>"
      ],
      "text/plain": [
       "   Gender_Male  Age  Direct_Bilirubin  Alkaline_Phosphotase  \\\n",
       "0            1   46               0.2                   160   \n",
       "1            1   15               0.2                   380   \n",
       "2            0   66               2.1                   159   \n",
       "3            1   32               0.1                   237   \n",
       "4            1   60               1.2                   171   \n",
       "\n",
       "   Alamine_Aminotransferase  Aspartate_Aminotransferase  Total_Protiens  \\\n",
       "0                        31                          40             7.3   \n",
       "1                        25                          66             6.1   \n",
       "2                        15                          30             7.1   \n",
       "3                        45                          31             7.5   \n",
       "4                        42                          37             5.4   \n",
       "\n",
       "   Albumin  Albumin_and_Globulin_Ratio  Dataset  \n",
       "0      3.8                        1.10        1  \n",
       "1      3.7                        1.50        1  \n",
       "2      2.2                        0.40        1  \n",
       "3      4.3                        1.34        1  \n",
       "4      2.7                        1.00        2  "
      ]
     },
     "execution_count": 65,
     "metadata": {},
     "output_type": "execute_result"
    }
   ],
   "source": [
    "predicted_test_data.head(5)"
   ]
  },
  {
   "cell_type": "code",
   "execution_count": 66,
   "metadata": {},
   "outputs": [],
   "source": [
    "predicted_test_data.to_csv('Predicted Test Data Problem-1.csv',index=False)"
   ]
  }
 ],
 "metadata": {
  "kernelspec": {
   "display_name": "Python 3",
   "language": "python",
   "name": "python3"
  },
  "language_info": {
   "codemirror_mode": {
    "name": "ipython",
    "version": 3
   },
   "file_extension": ".py",
   "mimetype": "text/x-python",
   "name": "python",
   "nbconvert_exporter": "python",
   "pygments_lexer": "ipython3",
   "version": "3.7.1"
  }
 },
 "nbformat": 4,
 "nbformat_minor": 2
}
